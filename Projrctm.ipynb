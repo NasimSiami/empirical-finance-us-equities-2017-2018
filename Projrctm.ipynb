{
 "cells": [
  {
   "cell_type": "code",
   "execution_count": 45,
   "metadata": {},
   "outputs": [],
   "source": [
    "import pandas as pd\n",
    "import numpy as np\n",
    "import scipy as sp\n",
    "import matplotlib.pyplot as plt\n",
    "import seaborn as sns\n",
    "from datetime import datetime\n",
    "import statsmodels.formula.api as sm\n",
    "from linearmodels import PanelOLS"
   ]
  },
  {
   "cell_type": "markdown",
   "metadata": {},
   "source": [
    "# Question 1"
   ]
  },
  {
   "cell_type": "markdown",
   "metadata": {},
   "source": [
    "#### Read the Disagreement data. After reading the data in and checking for obvious data errors, do your best to describe and get to know the data. What do you observe?"
   ]
  },
  {
   "cell_type": "code",
   "execution_count": 46,
   "metadata": {},
   "outputs": [
    {
     "data": {
      "text/html": [
       "<div>\n",
       "<style scoped>\n",
       "    .dataframe tbody tr th:only-of-type {\n",
       "        vertical-align: middle;\n",
       "    }\n",
       "\n",
       "    .dataframe tbody tr th {\n",
       "        vertical-align: top;\n",
       "    }\n",
       "\n",
       "    .dataframe thead th {\n",
       "        text-align: right;\n",
       "    }\n",
       "</style>\n",
       "<table border=\"1\" class=\"dataframe\">\n",
       "  <thead>\n",
       "    <tr style=\"text-align: right;\">\n",
       "      <th></th>\n",
       "      <th>permno</th>\n",
       "      <th>dis_all</th>\n",
       "      <th>dis_within_group</th>\n",
       "      <th>dis_across_group</th>\n",
       "    </tr>\n",
       "    <tr>\n",
       "      <th>date</th>\n",
       "      <th></th>\n",
       "      <th></th>\n",
       "      <th></th>\n",
       "      <th></th>\n",
       "    </tr>\n",
       "  </thead>\n",
       "  <tbody>\n",
       "    <tr>\n",
       "      <th>2010-11-05</th>\n",
       "      <td>66181</td>\n",
       "      <td>1.000000</td>\n",
       "      <td>0.0</td>\n",
       "      <td>0.0</td>\n",
       "    </tr>\n",
       "    <tr>\n",
       "      <th>2010-12-02</th>\n",
       "      <td>79667</td>\n",
       "      <td>0.000000</td>\n",
       "      <td>0.0</td>\n",
       "      <td>0.0</td>\n",
       "    </tr>\n",
       "    <tr>\n",
       "      <th>2010-11-29</th>\n",
       "      <td>89139</td>\n",
       "      <td>0.000000</td>\n",
       "      <td>0.0</td>\n",
       "      <td>0.0</td>\n",
       "    </tr>\n",
       "    <tr>\n",
       "      <th>2010-11-19</th>\n",
       "      <td>89139</td>\n",
       "      <td>1.000000</td>\n",
       "      <td>0.0</td>\n",
       "      <td>0.0</td>\n",
       "    </tr>\n",
       "    <tr>\n",
       "      <th>2010-02-02</th>\n",
       "      <td>11081</td>\n",
       "      <td>0.000000</td>\n",
       "      <td>0.0</td>\n",
       "      <td>0.0</td>\n",
       "    </tr>\n",
       "    <tr>\n",
       "      <th>...</th>\n",
       "      <td>...</td>\n",
       "      <td>...</td>\n",
       "      <td>...</td>\n",
       "      <td>...</td>\n",
       "    </tr>\n",
       "    <tr>\n",
       "      <th>2018-10-13</th>\n",
       "      <td>90291</td>\n",
       "      <td>0.000000</td>\n",
       "      <td>0.0</td>\n",
       "      <td>0.0</td>\n",
       "    </tr>\n",
       "    <tr>\n",
       "      <th>2018-09-14</th>\n",
       "      <td>90266</td>\n",
       "      <td>0.903508</td>\n",
       "      <td>0.0</td>\n",
       "      <td>0.0</td>\n",
       "    </tr>\n",
       "    <tr>\n",
       "      <th>2018-10-15</th>\n",
       "      <td>90291</td>\n",
       "      <td>1.000000</td>\n",
       "      <td>0.0</td>\n",
       "      <td>0.0</td>\n",
       "    </tr>\n",
       "    <tr>\n",
       "      <th>2018-07-12</th>\n",
       "      <td>90482</td>\n",
       "      <td>0.866025</td>\n",
       "      <td>0.0</td>\n",
       "      <td>0.0</td>\n",
       "    </tr>\n",
       "    <tr>\n",
       "      <th>2018-04-16</th>\n",
       "      <td>89891</td>\n",
       "      <td>0.000000</td>\n",
       "      <td>0.0</td>\n",
       "      <td>0.0</td>\n",
       "    </tr>\n",
       "  </tbody>\n",
       "</table>\n",
       "<p>2651379 rows × 4 columns</p>\n",
       "</div>"
      ],
      "text/plain": [
       "            permno   dis_all  dis_within_group  dis_across_group\n",
       "date                                                            \n",
       "2010-11-05   66181  1.000000               0.0               0.0\n",
       "2010-12-02   79667  0.000000               0.0               0.0\n",
       "2010-11-29   89139  0.000000               0.0               0.0\n",
       "2010-11-19   89139  1.000000               0.0               0.0\n",
       "2010-02-02   11081  0.000000               0.0               0.0\n",
       "...            ...       ...               ...               ...\n",
       "2018-10-13   90291  0.000000               0.0               0.0\n",
       "2018-09-14   90266  0.903508               0.0               0.0\n",
       "2018-10-15   90291  1.000000               0.0               0.0\n",
       "2018-07-12   90482  0.866025               0.0               0.0\n",
       "2018-04-16   89891  0.000000               0.0               0.0\n",
       "\n",
       "[2651379 rows x 4 columns]"
      ]
     },
     "execution_count": 46,
     "metadata": {},
     "output_type": "execute_result"
    }
   ],
   "source": [
    "# Reading Disagreement Data\n",
    "dis = pd.read_table('data\\CooksonNiessner2020_Disagree.txt', parse_dates=['date'], index_col='date')\n",
    "dis"
   ]
  },
  {
   "cell_type": "code",
   "execution_count": 47,
   "metadata": {},
   "outputs": [
    {
     "name": "stdout",
     "output_type": "stream",
     "text": [
      "<class 'pandas.core.frame.DataFrame'>\n",
      "DatetimeIndex: 2651379 entries, 2010-11-05 to 2018-04-16\n",
      "Data columns (total 4 columns):\n",
      " #   Column            Dtype  \n",
      "---  ------            -----  \n",
      " 0   permno            int64  \n",
      " 1   dis_all           float64\n",
      " 2   dis_within_group  float64\n",
      " 3   dis_across_group  float64\n",
      "dtypes: float64(3), int64(1)\n",
      "memory usage: 101.1 MB\n"
     ]
    }
   ],
   "source": [
    "# Data type of columns are correct\n",
    "dis.info()"
   ]
  },
  {
   "cell_type": "code",
   "execution_count": 48,
   "metadata": {},
   "outputs": [
    {
     "data": {
      "text/html": [
       "<div>\n",
       "<style scoped>\n",
       "    .dataframe tbody tr th:only-of-type {\n",
       "        vertical-align: middle;\n",
       "    }\n",
       "\n",
       "    .dataframe tbody tr th {\n",
       "        vertical-align: top;\n",
       "    }\n",
       "\n",
       "    .dataframe thead th {\n",
       "        text-align: right;\n",
       "    }\n",
       "</style>\n",
       "<table border=\"1\" class=\"dataframe\">\n",
       "  <thead>\n",
       "    <tr style=\"text-align: right;\">\n",
       "      <th></th>\n",
       "      <th>permno</th>\n",
       "      <th>dis_all</th>\n",
       "      <th>dis_within_group</th>\n",
       "      <th>dis_across_group</th>\n",
       "    </tr>\n",
       "  </thead>\n",
       "  <tbody>\n",
       "    <tr>\n",
       "      <th>count</th>\n",
       "      <td>2.651379e+06</td>\n",
       "      <td>2.651379e+06</td>\n",
       "      <td>2.651379e+06</td>\n",
       "      <td>2.651379e+06</td>\n",
       "    </tr>\n",
       "    <tr>\n",
       "      <th>mean</th>\n",
       "      <td>7.274101e+04</td>\n",
       "      <td>2.530501e-01</td>\n",
       "      <td>1.483946e-02</td>\n",
       "      <td>1.172989e-02</td>\n",
       "    </tr>\n",
       "    <tr>\n",
       "      <th>std</th>\n",
       "      <td>2.537136e+04</td>\n",
       "      <td>4.103691e-01</td>\n",
       "      <td>9.884302e-02</td>\n",
       "      <td>8.138073e-02</td>\n",
       "    </tr>\n",
       "    <tr>\n",
       "      <th>min</th>\n",
       "      <td>1.000100e+04</td>\n",
       "      <td>0.000000e+00</td>\n",
       "      <td>0.000000e+00</td>\n",
       "      <td>0.000000e+00</td>\n",
       "    </tr>\n",
       "    <tr>\n",
       "      <th>25%</th>\n",
       "      <td>6.609300e+04</td>\n",
       "      <td>0.000000e+00</td>\n",
       "      <td>0.000000e+00</td>\n",
       "      <td>0.000000e+00</td>\n",
       "    </tr>\n",
       "    <tr>\n",
       "      <th>50%</th>\n",
       "      <td>8.434200e+04</td>\n",
       "      <td>0.000000e+00</td>\n",
       "      <td>0.000000e+00</td>\n",
       "      <td>0.000000e+00</td>\n",
       "    </tr>\n",
       "    <tr>\n",
       "      <th>75%</th>\n",
       "      <td>9.023100e+04</td>\n",
       "      <td>7.453560e-01</td>\n",
       "      <td>0.000000e+00</td>\n",
       "      <td>0.000000e+00</td>\n",
       "    </tr>\n",
       "    <tr>\n",
       "      <th>max</th>\n",
       "      <td>9.343100e+04</td>\n",
       "      <td>1.000000e+00</td>\n",
       "      <td>1.000000e+00</td>\n",
       "      <td>1.117903e+00</td>\n",
       "    </tr>\n",
       "  </tbody>\n",
       "</table>\n",
       "</div>"
      ],
      "text/plain": [
       "             permno       dis_all  dis_within_group  dis_across_group\n",
       "count  2.651379e+06  2.651379e+06      2.651379e+06      2.651379e+06\n",
       "mean   7.274101e+04  2.530501e-01      1.483946e-02      1.172989e-02\n",
       "std    2.537136e+04  4.103691e-01      9.884302e-02      8.138073e-02\n",
       "min    1.000100e+04  0.000000e+00      0.000000e+00      0.000000e+00\n",
       "25%    6.609300e+04  0.000000e+00      0.000000e+00      0.000000e+00\n",
       "50%    8.434200e+04  0.000000e+00      0.000000e+00      0.000000e+00\n",
       "75%    9.023100e+04  7.453560e-01      0.000000e+00      0.000000e+00\n",
       "max    9.343100e+04  1.000000e+00      1.000000e+00      1.117903e+00"
      ]
     },
     "execution_count": 48,
     "metadata": {},
     "output_type": "execute_result"
    }
   ],
   "source": [
    "# Characteristics of variables\n",
    "dis.describe()"
   ]
  },
  {
   "cell_type": "code",
   "execution_count": 49,
   "metadata": {},
   "outputs": [
    {
     "data": {
      "text/plain": [
       "permno              False\n",
       "dis_all             False\n",
       "dis_within_group    False\n",
       "dis_across_group    False\n",
       "dtype: bool"
      ]
     },
     "execution_count": 49,
     "metadata": {},
     "output_type": "execute_result"
    }
   ],
   "source": [
    "# There is no missing value\n",
    "dis.isnull().any()"
   ]
  },
  {
   "cell_type": "code",
   "execution_count": 50,
   "metadata": {},
   "outputs": [
    {
     "data": {
      "text/plain": [
       "2115465"
      ]
     },
     "execution_count": 50,
     "metadata": {},
     "output_type": "execute_result"
    }
   ],
   "source": [
    "dis.dis_all[(dis.dis_all == 0) | (dis.dis_all == 1)].count()\n",
    "# There is some values other than 0 or 1"
   ]
  },
  {
   "cell_type": "code",
   "execution_count": 51,
   "metadata": {},
   "outputs": [
    {
     "data": {
      "text/plain": [
       "8816"
      ]
     },
     "execution_count": 51,
     "metadata": {},
     "output_type": "execute_result"
    }
   ],
   "source": [
    "dis.dis_all.nunique()"
   ]
  },
  {
   "cell_type": "markdown",
   "metadata": {},
   "source": [
    "#### Read the CRSP data. After reading the data in and checking for obvious data errors, make a plot of the cumulative returns (buy-and-hold returns) of Tesla, Coca-Cola, and Apple (one figure for both stocks) and comment what you see."
   ]
  },
  {
   "cell_type": "code",
   "execution_count": 52,
   "metadata": {},
   "outputs": [
    {
     "name": "stderr",
     "output_type": "stream",
     "text": [
      "C:\\Users\\user66\\anaconda3\\envs\\hecfin\\lib\\site-packages\\IPython\\core\\interactiveshell.py:3457: DtypeWarning: Columns (5) have mixed types.Specify dtype option on import or set low_memory=False.\n",
      "  exec(code_obj, self.user_global_ns, self.user_ns)\n"
     ]
    },
    {
     "data": {
      "text/html": [
       "<div>\n",
       "<style scoped>\n",
       "    .dataframe tbody tr th:only-of-type {\n",
       "        vertical-align: middle;\n",
       "    }\n",
       "\n",
       "    .dataframe tbody tr th {\n",
       "        vertical-align: top;\n",
       "    }\n",
       "\n",
       "    .dataframe thead th {\n",
       "        text-align: right;\n",
       "    }\n",
       "</style>\n",
       "<table border=\"1\" class=\"dataframe\">\n",
       "  <thead>\n",
       "    <tr style=\"text-align: right;\">\n",
       "      <th></th>\n",
       "      <th>PERMNO</th>\n",
       "      <th>TICKER</th>\n",
       "      <th>PRC</th>\n",
       "      <th>VOL</th>\n",
       "      <th>RET</th>\n",
       "      <th>SHROUT</th>\n",
       "    </tr>\n",
       "    <tr>\n",
       "      <th>date</th>\n",
       "      <th></th>\n",
       "      <th></th>\n",
       "      <th></th>\n",
       "      <th></th>\n",
       "      <th></th>\n",
       "      <th></th>\n",
       "    </tr>\n",
       "  </thead>\n",
       "  <tbody>\n",
       "    <tr>\n",
       "      <th>2017-01-03</th>\n",
       "      <td>10001</td>\n",
       "      <td>EGAS</td>\n",
       "      <td>12.60000</td>\n",
       "      <td>70124.0</td>\n",
       "      <td>0.003984</td>\n",
       "      <td>10520.0</td>\n",
       "    </tr>\n",
       "    <tr>\n",
       "      <th>2017-01-04</th>\n",
       "      <td>10001</td>\n",
       "      <td>EGAS</td>\n",
       "      <td>12.55000</td>\n",
       "      <td>4013.0</td>\n",
       "      <td>-0.003968</td>\n",
       "      <td>10520.0</td>\n",
       "    </tr>\n",
       "    <tr>\n",
       "      <th>2017-01-05</th>\n",
       "      <td>10001</td>\n",
       "      <td>EGAS</td>\n",
       "      <td>12.70000</td>\n",
       "      <td>97588.0</td>\n",
       "      <td>0.011952</td>\n",
       "      <td>10520.0</td>\n",
       "    </tr>\n",
       "    <tr>\n",
       "      <th>2017-01-06</th>\n",
       "      <td>10001</td>\n",
       "      <td>EGAS</td>\n",
       "      <td>12.70000</td>\n",
       "      <td>164633.0</td>\n",
       "      <td>0.000000</td>\n",
       "      <td>10520.0</td>\n",
       "    </tr>\n",
       "    <tr>\n",
       "      <th>2017-01-09</th>\n",
       "      <td>10001</td>\n",
       "      <td>EGAS</td>\n",
       "      <td>12.60000</td>\n",
       "      <td>27508.0</td>\n",
       "      <td>-0.007874</td>\n",
       "      <td>10520.0</td>\n",
       "    </tr>\n",
       "    <tr>\n",
       "      <th>...</th>\n",
       "      <td>...</td>\n",
       "      <td>...</td>\n",
       "      <td>...</td>\n",
       "      <td>...</td>\n",
       "      <td>...</td>\n",
       "      <td>...</td>\n",
       "    </tr>\n",
       "    <tr>\n",
       "      <th>2018-12-24</th>\n",
       "      <td>93436</td>\n",
       "      <td>TSLA</td>\n",
       "      <td>295.39001</td>\n",
       "      <td>5559913.0</td>\n",
       "      <td>-0.076242</td>\n",
       "      <td>171733.0</td>\n",
       "    </tr>\n",
       "    <tr>\n",
       "      <th>2018-12-26</th>\n",
       "      <td>93436</td>\n",
       "      <td>TSLA</td>\n",
       "      <td>326.09000</td>\n",
       "      <td>8163143.0</td>\n",
       "      <td>0.103930</td>\n",
       "      <td>171733.0</td>\n",
       "    </tr>\n",
       "    <tr>\n",
       "      <th>2018-12-27</th>\n",
       "      <td>93436</td>\n",
       "      <td>TSLA</td>\n",
       "      <td>316.13000</td>\n",
       "      <td>8575133.0</td>\n",
       "      <td>-0.030544</td>\n",
       "      <td>171733.0</td>\n",
       "    </tr>\n",
       "    <tr>\n",
       "      <th>2018-12-28</th>\n",
       "      <td>93436</td>\n",
       "      <td>TSLA</td>\n",
       "      <td>333.87000</td>\n",
       "      <td>9938992.0</td>\n",
       "      <td>0.056116</td>\n",
       "      <td>171733.0</td>\n",
       "    </tr>\n",
       "    <tr>\n",
       "      <th>2018-12-31</th>\n",
       "      <td>93436</td>\n",
       "      <td>TSLA</td>\n",
       "      <td>332.79999</td>\n",
       "      <td>6302338.0</td>\n",
       "      <td>-0.003205</td>\n",
       "      <td>172602.0</td>\n",
       "    </tr>\n",
       "  </tbody>\n",
       "</table>\n",
       "<p>3687719 rows × 6 columns</p>\n",
       "</div>"
      ],
      "text/plain": [
       "            PERMNO TICKER        PRC        VOL        RET    SHROUT\n",
       "date                                                                \n",
       "2017-01-03   10001   EGAS   12.60000    70124.0   0.003984   10520.0\n",
       "2017-01-04   10001   EGAS   12.55000     4013.0  -0.003968   10520.0\n",
       "2017-01-05   10001   EGAS   12.70000    97588.0   0.011952   10520.0\n",
       "2017-01-06   10001   EGAS   12.70000   164633.0   0.000000   10520.0\n",
       "2017-01-09   10001   EGAS   12.60000    27508.0  -0.007874   10520.0\n",
       "...            ...    ...        ...        ...        ...       ...\n",
       "2018-12-24   93436   TSLA  295.39001  5559913.0  -0.076242  171733.0\n",
       "2018-12-26   93436   TSLA  326.09000  8163143.0   0.103930  171733.0\n",
       "2018-12-27   93436   TSLA  316.13000  8575133.0  -0.030544  171733.0\n",
       "2018-12-28   93436   TSLA  333.87000  9938992.0   0.056116  171733.0\n",
       "2018-12-31   93436   TSLA  332.79999  6302338.0  -0.003205  172602.0\n",
       "\n",
       "[3687719 rows x 6 columns]"
      ]
     },
     "execution_count": 52,
     "metadata": {},
     "output_type": "execute_result"
    }
   ],
   "source": [
    "# Reading CRSP Data\n",
    "crsp = pd.read_table('data\\CRSP.csv.gz', sep=',', parse_dates=['date'], index_col='date')\n",
    "crsp"
   ]
  },
  {
   "cell_type": "code",
   "execution_count": 53,
   "metadata": {},
   "outputs": [
    {
     "name": "stdout",
     "output_type": "stream",
     "text": [
      "<class 'pandas.core.frame.DataFrame'>\n",
      "DatetimeIndex: 3687719 entries, 2017-01-03 to 2018-12-31\n",
      "Data columns (total 6 columns):\n",
      " #   Column  Dtype  \n",
      "---  ------  -----  \n",
      " 0   PERMNO  int64  \n",
      " 1   TICKER  object \n",
      " 2   PRC     float64\n",
      " 3   VOL     float64\n",
      " 4   RET     object \n",
      " 5   SHROUT  float64\n",
      "dtypes: float64(3), int64(1), object(2)\n",
      "memory usage: 196.9+ MB\n"
     ]
    }
   ],
   "source": [
    "# Data type of columns are correct, except 'TICKER' & 'RET'\n",
    "crsp.info()"
   ]
  },
  {
   "cell_type": "code",
   "execution_count": 107,
   "metadata": {},
   "outputs": [
    {
     "data": {
      "text/html": [
       "<div>\n",
       "<style scoped>\n",
       "    .dataframe tbody tr th:only-of-type {\n",
       "        vertical-align: middle;\n",
       "    }\n",
       "\n",
       "    .dataframe tbody tr th {\n",
       "        vertical-align: top;\n",
       "    }\n",
       "\n",
       "    .dataframe thead th {\n",
       "        text-align: right;\n",
       "    }\n",
       "</style>\n",
       "<table border=\"1\" class=\"dataframe\">\n",
       "  <thead>\n",
       "    <tr style=\"text-align: right;\">\n",
       "      <th></th>\n",
       "      <th>permno</th>\n",
       "      <th>prc</th>\n",
       "      <th>vol</th>\n",
       "      <th>ret</th>\n",
       "      <th>shrout</th>\n",
       "      <th>1+ret</th>\n",
       "      <th>cret</th>\n",
       "    </tr>\n",
       "  </thead>\n",
       "  <tbody>\n",
       "    <tr>\n",
       "      <th>count</th>\n",
       "      <td>3.672167e+06</td>\n",
       "      <td>3.672167e+06</td>\n",
       "      <td>3.672167e+06</td>\n",
       "      <td>3.672167e+06</td>\n",
       "      <td>3.672167e+06</td>\n",
       "      <td>3.672167e+06</td>\n",
       "      <td>3.672167e+06</td>\n",
       "    </tr>\n",
       "    <tr>\n",
       "      <th>mean</th>\n",
       "      <td>5.126498e+04</td>\n",
       "      <td>7.527204e+01</td>\n",
       "      <td>9.169543e+05</td>\n",
       "      <td>1.134781e-04</td>\n",
       "      <td>9.967823e+04</td>\n",
       "      <td>1.000113e+00</td>\n",
       "      <td>1.217295e+01</td>\n",
       "    </tr>\n",
       "    <tr>\n",
       "      <th>std</th>\n",
       "      <td>3.503817e+04</td>\n",
       "      <td>3.338511e+03</td>\n",
       "      <td>3.885561e+06</td>\n",
       "      <td>3.306049e-02</td>\n",
       "      <td>3.459066e+05</td>\n",
       "      <td>3.306049e-02</td>\n",
       "      <td>5.047020e+01</td>\n",
       "    </tr>\n",
       "    <tr>\n",
       "      <th>min</th>\n",
       "      <td>1.000100e+04</td>\n",
       "      <td>-7.094300e+02</td>\n",
       "      <td>0.000000e+00</td>\n",
       "      <td>-9.652480e-01</td>\n",
       "      <td>2.400000e+01</td>\n",
       "      <td>3.475200e-02</td>\n",
       "      <td>-9.999982e+01</td>\n",
       "    </tr>\n",
       "    <tr>\n",
       "      <th>25%</th>\n",
       "      <td>1.528500e+04</td>\n",
       "      <td>9.450000e+00</td>\n",
       "      <td>1.809750e+04</td>\n",
       "      <td>-7.859000e-03</td>\n",
       "      <td>7.691000e+03</td>\n",
       "      <td>9.921410e-01</td>\n",
       "      <td>-4.736860e+00</td>\n",
       "    </tr>\n",
       "    <tr>\n",
       "      <th>50%</th>\n",
       "      <td>5.307400e+04</td>\n",
       "      <td>2.288000e+01</td>\n",
       "      <td>1.211790e+05</td>\n",
       "      <td>0.000000e+00</td>\n",
       "      <td>2.720500e+04</td>\n",
       "      <td>1.000000e+00</td>\n",
       "      <td>6.092636e+00</td>\n",
       "    </tr>\n",
       "    <tr>\n",
       "      <th>75%</th>\n",
       "      <td>8.880700e+04</td>\n",
       "      <td>4.496000e+01</td>\n",
       "      <td>5.668220e+05</td>\n",
       "      <td>7.758000e-03</td>\n",
       "      <td>7.365600e+04</td>\n",
       "      <td>1.007758e+00</td>\n",
       "      <td>2.206216e+01</td>\n",
       "    </tr>\n",
       "    <tr>\n",
       "      <th>max</th>\n",
       "      <td>9.343600e+04</td>\n",
       "      <td>3.356300e+05</td>\n",
       "      <td>6.702928e+08</td>\n",
       "      <td>8.977274e+00</td>\n",
       "      <td>1.055000e+07</td>\n",
       "      <td>9.977274e+00</td>\n",
       "      <td>4.542895e+03</td>\n",
       "    </tr>\n",
       "  </tbody>\n",
       "</table>\n",
       "</div>"
      ],
      "text/plain": [
       "             permno           prc           vol           ret        shrout  \\\n",
       "count  3.672167e+06  3.672167e+06  3.672167e+06  3.672167e+06  3.672167e+06   \n",
       "mean   5.126498e+04  7.527204e+01  9.169543e+05  1.134781e-04  9.967823e+04   \n",
       "std    3.503817e+04  3.338511e+03  3.885561e+06  3.306049e-02  3.459066e+05   \n",
       "min    1.000100e+04 -7.094300e+02  0.000000e+00 -9.652480e-01  2.400000e+01   \n",
       "25%    1.528500e+04  9.450000e+00  1.809750e+04 -7.859000e-03  7.691000e+03   \n",
       "50%    5.307400e+04  2.288000e+01  1.211790e+05  0.000000e+00  2.720500e+04   \n",
       "75%    8.880700e+04  4.496000e+01  5.668220e+05  7.758000e-03  7.365600e+04   \n",
       "max    9.343600e+04  3.356300e+05  6.702928e+08  8.977274e+00  1.055000e+07   \n",
       "\n",
       "              1+ret          cret  \n",
       "count  3.672167e+06  3.672167e+06  \n",
       "mean   1.000113e+00  1.217295e+01  \n",
       "std    3.306049e-02  5.047020e+01  \n",
       "min    3.475200e-02 -9.999982e+01  \n",
       "25%    9.921410e-01 -4.736860e+00  \n",
       "50%    1.000000e+00  6.092636e+00  \n",
       "75%    1.007758e+00  2.206216e+01  \n",
       "max    9.977274e+00  4.542895e+03  "
      ]
     },
     "execution_count": 107,
     "metadata": {},
     "output_type": "execute_result"
    }
   ],
   "source": [
    "crsp.describe()"
   ]
  },
  {
   "cell_type": "markdown",
   "metadata": {},
   "source": [
    "### **`Answer:`**\n",
    "The minimmun of prc (price) is negative, it seems that there is an error."
   ]
  },
  {
   "cell_type": "code",
   "execution_count": 54,
   "metadata": {},
   "outputs": [
    {
     "data": {
      "text/html": [
       "<div>\n",
       "<style scoped>\n",
       "    .dataframe tbody tr th:only-of-type {\n",
       "        vertical-align: middle;\n",
       "    }\n",
       "\n",
       "    .dataframe tbody tr th {\n",
       "        vertical-align: top;\n",
       "    }\n",
       "\n",
       "    .dataframe thead th {\n",
       "        text-align: right;\n",
       "    }\n",
       "</style>\n",
       "<table border=\"1\" class=\"dataframe\">\n",
       "  <thead>\n",
       "    <tr style=\"text-align: right;\">\n",
       "      <th></th>\n",
       "      <th>permno</th>\n",
       "      <th>ticker</th>\n",
       "      <th>prc</th>\n",
       "      <th>vol</th>\n",
       "      <th>ret</th>\n",
       "      <th>shrout</th>\n",
       "    </tr>\n",
       "    <tr>\n",
       "      <th>date</th>\n",
       "      <th></th>\n",
       "      <th></th>\n",
       "      <th></th>\n",
       "      <th></th>\n",
       "      <th></th>\n",
       "      <th></th>\n",
       "    </tr>\n",
       "  </thead>\n",
       "  <tbody>\n",
       "    <tr>\n",
       "      <th>2017-01-03</th>\n",
       "      <td>10001</td>\n",
       "      <td>EGAS</td>\n",
       "      <td>12.60000</td>\n",
       "      <td>70124.0</td>\n",
       "      <td>0.003984</td>\n",
       "      <td>10520.0</td>\n",
       "    </tr>\n",
       "    <tr>\n",
       "      <th>2017-01-04</th>\n",
       "      <td>10001</td>\n",
       "      <td>EGAS</td>\n",
       "      <td>12.55000</td>\n",
       "      <td>4013.0</td>\n",
       "      <td>-0.003968</td>\n",
       "      <td>10520.0</td>\n",
       "    </tr>\n",
       "    <tr>\n",
       "      <th>2017-01-05</th>\n",
       "      <td>10001</td>\n",
       "      <td>EGAS</td>\n",
       "      <td>12.70000</td>\n",
       "      <td>97588.0</td>\n",
       "      <td>0.011952</td>\n",
       "      <td>10520.0</td>\n",
       "    </tr>\n",
       "    <tr>\n",
       "      <th>2017-01-06</th>\n",
       "      <td>10001</td>\n",
       "      <td>EGAS</td>\n",
       "      <td>12.70000</td>\n",
       "      <td>164633.0</td>\n",
       "      <td>0.000000</td>\n",
       "      <td>10520.0</td>\n",
       "    </tr>\n",
       "    <tr>\n",
       "      <th>2017-01-09</th>\n",
       "      <td>10001</td>\n",
       "      <td>EGAS</td>\n",
       "      <td>12.60000</td>\n",
       "      <td>27508.0</td>\n",
       "      <td>-0.007874</td>\n",
       "      <td>10520.0</td>\n",
       "    </tr>\n",
       "    <tr>\n",
       "      <th>...</th>\n",
       "      <td>...</td>\n",
       "      <td>...</td>\n",
       "      <td>...</td>\n",
       "      <td>...</td>\n",
       "      <td>...</td>\n",
       "      <td>...</td>\n",
       "    </tr>\n",
       "    <tr>\n",
       "      <th>2018-12-24</th>\n",
       "      <td>93436</td>\n",
       "      <td>TSLA</td>\n",
       "      <td>295.39001</td>\n",
       "      <td>5559913.0</td>\n",
       "      <td>-0.076242</td>\n",
       "      <td>171733.0</td>\n",
       "    </tr>\n",
       "    <tr>\n",
       "      <th>2018-12-26</th>\n",
       "      <td>93436</td>\n",
       "      <td>TSLA</td>\n",
       "      <td>326.09000</td>\n",
       "      <td>8163143.0</td>\n",
       "      <td>0.103930</td>\n",
       "      <td>171733.0</td>\n",
       "    </tr>\n",
       "    <tr>\n",
       "      <th>2018-12-27</th>\n",
       "      <td>93436</td>\n",
       "      <td>TSLA</td>\n",
       "      <td>316.13000</td>\n",
       "      <td>8575133.0</td>\n",
       "      <td>-0.030544</td>\n",
       "      <td>171733.0</td>\n",
       "    </tr>\n",
       "    <tr>\n",
       "      <th>2018-12-28</th>\n",
       "      <td>93436</td>\n",
       "      <td>TSLA</td>\n",
       "      <td>333.87000</td>\n",
       "      <td>9938992.0</td>\n",
       "      <td>0.056116</td>\n",
       "      <td>171733.0</td>\n",
       "    </tr>\n",
       "    <tr>\n",
       "      <th>2018-12-31</th>\n",
       "      <td>93436</td>\n",
       "      <td>TSLA</td>\n",
       "      <td>332.79999</td>\n",
       "      <td>6302338.0</td>\n",
       "      <td>-0.003205</td>\n",
       "      <td>172602.0</td>\n",
       "    </tr>\n",
       "  </tbody>\n",
       "</table>\n",
       "<p>3687719 rows × 6 columns</p>\n",
       "</div>"
      ],
      "text/plain": [
       "            permno ticker        prc        vol        ret    shrout\n",
       "date                                                                \n",
       "2017-01-03   10001   EGAS   12.60000    70124.0   0.003984   10520.0\n",
       "2017-01-04   10001   EGAS   12.55000     4013.0  -0.003968   10520.0\n",
       "2017-01-05   10001   EGAS   12.70000    97588.0   0.011952   10520.0\n",
       "2017-01-06   10001   EGAS   12.70000   164633.0   0.000000   10520.0\n",
       "2017-01-09   10001   EGAS   12.60000    27508.0  -0.007874   10520.0\n",
       "...            ...    ...        ...        ...        ...       ...\n",
       "2018-12-24   93436   TSLA  295.39001  5559913.0  -0.076242  171733.0\n",
       "2018-12-26   93436   TSLA  326.09000  8163143.0   0.103930  171733.0\n",
       "2018-12-27   93436   TSLA  316.13000  8575133.0  -0.030544  171733.0\n",
       "2018-12-28   93436   TSLA  333.87000  9938992.0   0.056116  171733.0\n",
       "2018-12-31   93436   TSLA  332.79999  6302338.0  -0.003205  172602.0\n",
       "\n",
       "[3687719 rows x 6 columns]"
      ]
     },
     "execution_count": 54,
     "metadata": {},
     "output_type": "execute_result"
    }
   ],
   "source": [
    "# Making columns name lower case to work easier\n",
    "crsp.columns = [x.lower() for x in crsp.columns]\n",
    "crsp"
   ]
  },
  {
   "cell_type": "code",
   "execution_count": 55,
   "metadata": {},
   "outputs": [
    {
     "data": {
      "text/plain": [
       "array([nan, 'B', 'C'], dtype=object)"
      ]
     },
     "execution_count": 55,
     "metadata": {},
     "output_type": "execute_result"
    }
   ],
   "source": [
    "# Finding values other than number in RET column\n",
    "crsp.ret[pd.isnull(pd.to_numeric(crsp.ret, errors='coerce'))].unique()"
   ]
  },
  {
   "cell_type": "code",
   "execution_count": 56,
   "metadata": {},
   "outputs": [],
   "source": [
    "# Converting values to number and removing non-number values\n",
    "crsp.ret = pd.to_numeric(crsp.ret, errors='coerce')"
   ]
  },
  {
   "cell_type": "code",
   "execution_count": 57,
   "metadata": {},
   "outputs": [
    {
     "data": {
      "text/plain": [
       "True"
      ]
     },
     "execution_count": 57,
     "metadata": {},
     "output_type": "execute_result"
    }
   ],
   "source": [
    "# Checking if there is missing values in 'ticker' column\n",
    "pd.isnull(crsp.ticker).any()"
   ]
  },
  {
   "cell_type": "code",
   "execution_count": 58,
   "metadata": {},
   "outputs": [],
   "source": [
    "# Removing rows which contain missing values\n",
    "crsp = crsp.dropna()"
   ]
  },
  {
   "cell_type": "code",
   "execution_count": 59,
   "metadata": {},
   "outputs": [
    {
     "name": "stderr",
     "output_type": "stream",
     "text": [
      "C:\\Users\\user66\\anaconda3\\envs\\hecfin\\lib\\site-packages\\pandas\\core\\indexing.py:1667: SettingWithCopyWarning: \n",
      "A value is trying to be set on a copy of a slice from a DataFrame.\n",
      "Try using .loc[row_indexer,col_indexer] = value instead\n",
      "\n",
      "See the caveats in the documentation: https://pandas.pydata.org/pandas-docs/stable/user_guide/indexing.html#returning-a-view-versus-a-copy\n",
      "  self.obj[key] = value\n"
     ]
    },
    {
     "data": {
      "text/html": [
       "<div>\n",
       "<style scoped>\n",
       "    .dataframe tbody tr th:only-of-type {\n",
       "        vertical-align: middle;\n",
       "    }\n",
       "\n",
       "    .dataframe tbody tr th {\n",
       "        vertical-align: top;\n",
       "    }\n",
       "\n",
       "    .dataframe thead th {\n",
       "        text-align: right;\n",
       "    }\n",
       "</style>\n",
       "<table border=\"1\" class=\"dataframe\">\n",
       "  <thead>\n",
       "    <tr style=\"text-align: right;\">\n",
       "      <th></th>\n",
       "      <th>permno</th>\n",
       "      <th>ticker</th>\n",
       "      <th>prc</th>\n",
       "      <th>vol</th>\n",
       "      <th>ret</th>\n",
       "      <th>shrout</th>\n",
       "      <th>1+ret</th>\n",
       "      <th>cret</th>\n",
       "    </tr>\n",
       "    <tr>\n",
       "      <th>date</th>\n",
       "      <th></th>\n",
       "      <th></th>\n",
       "      <th></th>\n",
       "      <th></th>\n",
       "      <th></th>\n",
       "      <th></th>\n",
       "      <th></th>\n",
       "      <th></th>\n",
       "    </tr>\n",
       "  </thead>\n",
       "  <tbody>\n",
       "    <tr>\n",
       "      <th>2017-01-03</th>\n",
       "      <td>10001</td>\n",
       "      <td>EGAS</td>\n",
       "      <td>12.60000</td>\n",
       "      <td>70124.0</td>\n",
       "      <td>0.003984</td>\n",
       "      <td>10520.0</td>\n",
       "      <td>1.003984</td>\n",
       "      <td>0.398400</td>\n",
       "    </tr>\n",
       "    <tr>\n",
       "      <th>2017-01-04</th>\n",
       "      <td>10001</td>\n",
       "      <td>EGAS</td>\n",
       "      <td>12.55000</td>\n",
       "      <td>4013.0</td>\n",
       "      <td>-0.003968</td>\n",
       "      <td>10520.0</td>\n",
       "      <td>0.996032</td>\n",
       "      <td>0.000019</td>\n",
       "    </tr>\n",
       "    <tr>\n",
       "      <th>2017-01-05</th>\n",
       "      <td>10001</td>\n",
       "      <td>EGAS</td>\n",
       "      <td>12.70000</td>\n",
       "      <td>97588.0</td>\n",
       "      <td>0.011952</td>\n",
       "      <td>10520.0</td>\n",
       "      <td>1.011952</td>\n",
       "      <td>1.195219</td>\n",
       "    </tr>\n",
       "    <tr>\n",
       "      <th>2017-01-06</th>\n",
       "      <td>10001</td>\n",
       "      <td>EGAS</td>\n",
       "      <td>12.70000</td>\n",
       "      <td>164633.0</td>\n",
       "      <td>0.000000</td>\n",
       "      <td>10520.0</td>\n",
       "      <td>1.000000</td>\n",
       "      <td>1.195219</td>\n",
       "    </tr>\n",
       "    <tr>\n",
       "      <th>2017-01-09</th>\n",
       "      <td>10001</td>\n",
       "      <td>EGAS</td>\n",
       "      <td>12.60000</td>\n",
       "      <td>27508.0</td>\n",
       "      <td>-0.007874</td>\n",
       "      <td>10520.0</td>\n",
       "      <td>0.992126</td>\n",
       "      <td>0.398408</td>\n",
       "    </tr>\n",
       "    <tr>\n",
       "      <th>...</th>\n",
       "      <td>...</td>\n",
       "      <td>...</td>\n",
       "      <td>...</td>\n",
       "      <td>...</td>\n",
       "      <td>...</td>\n",
       "      <td>...</td>\n",
       "      <td>...</td>\n",
       "      <td>...</td>\n",
       "    </tr>\n",
       "    <tr>\n",
       "      <th>2018-12-24</th>\n",
       "      <td>93436</td>\n",
       "      <td>TSLA</td>\n",
       "      <td>295.39001</td>\n",
       "      <td>5559913.0</td>\n",
       "      <td>-0.076242</td>\n",
       "      <td>171733.0</td>\n",
       "      <td>0.923758</td>\n",
       "      <td>38.233122</td>\n",
       "    </tr>\n",
       "    <tr>\n",
       "      <th>2018-12-26</th>\n",
       "      <td>93436</td>\n",
       "      <td>TSLA</td>\n",
       "      <td>326.09000</td>\n",
       "      <td>8163143.0</td>\n",
       "      <td>0.103930</td>\n",
       "      <td>171733.0</td>\n",
       "      <td>1.103930</td>\n",
       "      <td>52.599691</td>\n",
       "    </tr>\n",
       "    <tr>\n",
       "      <th>2018-12-27</th>\n",
       "      <td>93436</td>\n",
       "      <td>TSLA</td>\n",
       "      <td>316.13000</td>\n",
       "      <td>8575133.0</td>\n",
       "      <td>-0.030544</td>\n",
       "      <td>171733.0</td>\n",
       "      <td>0.969456</td>\n",
       "      <td>47.938686</td>\n",
       "    </tr>\n",
       "    <tr>\n",
       "      <th>2018-12-28</th>\n",
       "      <td>93436</td>\n",
       "      <td>TSLA</td>\n",
       "      <td>333.87000</td>\n",
       "      <td>9938992.0</td>\n",
       "      <td>0.056116</td>\n",
       "      <td>171733.0</td>\n",
       "      <td>1.056116</td>\n",
       "      <td>56.240413</td>\n",
       "    </tr>\n",
       "    <tr>\n",
       "      <th>2018-12-31</th>\n",
       "      <td>93436</td>\n",
       "      <td>TSLA</td>\n",
       "      <td>332.79999</td>\n",
       "      <td>6302338.0</td>\n",
       "      <td>-0.003205</td>\n",
       "      <td>172602.0</td>\n",
       "      <td>0.996795</td>\n",
       "      <td>55.739662</td>\n",
       "    </tr>\n",
       "  </tbody>\n",
       "</table>\n",
       "<p>3672167 rows × 8 columns</p>\n",
       "</div>"
      ],
      "text/plain": [
       "            permno ticker        prc        vol       ret    shrout     1+ret  \\\n",
       "date                                                                            \n",
       "2017-01-03   10001   EGAS   12.60000    70124.0  0.003984   10520.0  1.003984   \n",
       "2017-01-04   10001   EGAS   12.55000     4013.0 -0.003968   10520.0  0.996032   \n",
       "2017-01-05   10001   EGAS   12.70000    97588.0  0.011952   10520.0  1.011952   \n",
       "2017-01-06   10001   EGAS   12.70000   164633.0  0.000000   10520.0  1.000000   \n",
       "2017-01-09   10001   EGAS   12.60000    27508.0 -0.007874   10520.0  0.992126   \n",
       "...            ...    ...        ...        ...       ...       ...       ...   \n",
       "2018-12-24   93436   TSLA  295.39001  5559913.0 -0.076242  171733.0  0.923758   \n",
       "2018-12-26   93436   TSLA  326.09000  8163143.0  0.103930  171733.0  1.103930   \n",
       "2018-12-27   93436   TSLA  316.13000  8575133.0 -0.030544  171733.0  0.969456   \n",
       "2018-12-28   93436   TSLA  333.87000  9938992.0  0.056116  171733.0  1.056116   \n",
       "2018-12-31   93436   TSLA  332.79999  6302338.0 -0.003205  172602.0  0.996795   \n",
       "\n",
       "                 cret  \n",
       "date                   \n",
       "2017-01-03   0.398400  \n",
       "2017-01-04   0.000019  \n",
       "2017-01-05   1.195219  \n",
       "2017-01-06   1.195219  \n",
       "2017-01-09   0.398408  \n",
       "...               ...  \n",
       "2018-12-24  38.233122  \n",
       "2018-12-26  52.599691  \n",
       "2018-12-27  47.938686  \n",
       "2018-12-28  56.240413  \n",
       "2018-12-31  55.739662  \n",
       "\n",
       "[3672167 rows x 8 columns]"
      ]
     },
     "execution_count": 59,
     "metadata": {},
     "output_type": "execute_result"
    }
   ],
   "source": [
    "crsp.loc[:,'1+ret'] = (crsp.ret + 1)\n",
    "crsp.loc[:,'cret'] = (crsp.groupby(['ticker'])['1+ret'].cumprod() - 1) * 100\n",
    "crsp"
   ]
  },
  {
   "cell_type": "code",
   "execution_count": 60,
   "metadata": {},
   "outputs": [],
   "source": [
    "# indexing for each firms\n",
    "tesla = (crsp.ticker == 'TSLA')\n",
    "coca = (crsp.ticker == 'KO')\n",
    "apple = (crsp.ticker == 'AAPL')"
   ]
  },
  {
   "cell_type": "code",
   "execution_count": 61,
   "metadata": {},
   "outputs": [
    {
     "data": {
      "text/plain": [
       "Text(0, 0.5, 'Cumulative returns (%)')"
      ]
     },
     "execution_count": 61,
     "metadata": {},
     "output_type": "execute_result"
    },
    {
     "data": {
      "image/png": "[encoded data removed]",
      "text/plain": [
       "<Figure size 720x432 with 1 Axes>"
      ]
     },
     "metadata": {
      "needs_background": "light"
     },
     "output_type": "display_data"
    }
   ],
   "source": [
    "# Ploting cumulative returns\n",
    "ax = crsp.cret[tesla].plot(figsize=(10,6), color='blue')\n",
    "crsp.cret[coca].plot(figsize=(10,6), color='red')\n",
    "crsp.cret[apple].plot(figsize=(10,6), color='black')\n",
    "ax.legend(['Tesla','Coca-Cola','Apple'])\n",
    "ax.set_title('Buy-and-hold returns' , fontsize = 14)\n",
    "ax.set_xlabel('Date' , fontsize = 14)\n",
    "ax.set_ylabel('Cumulative returns (%)' , fontsize = 14)"
   ]
  },
  {
   "cell_type": "markdown",
   "metadata": {},
   "source": [
    "#### Also make a plot of the daily volume of each stock (one figure for all stocks) and comment what you see."
   ]
  },
  {
   "cell_type": "markdown",
   "metadata": {},
   "source": [
    "### Daily volume"
   ]
  },
  {
   "cell_type": "code",
   "execution_count": 62,
   "metadata": {},
   "outputs": [
    {
     "data": {
      "text/plain": [
       "Text(0, 0.5, 'Volume ($)')"
      ]
     },
     "execution_count": 62,
     "metadata": {},
     "output_type": "execute_result"
    },
    {
     "data": {
      "image/png": "[encoded data removed]",
      "text/plain": [
       "<Figure size 1080x576 with 1 Axes>"
      ]
     },
     "metadata": {
      "needs_background": "light"
     },
     "output_type": "display_data"
    }
   ],
   "source": [
    "# Ploting daily volumes\n",
    "ax2 = crsp.vol[tesla].plot(figsize=(15,8), color='blue')\n",
    "crsp.vol[coca].plot(figsize=(15,8), color='red')\n",
    "crsp.vol[apple].plot(figsize=(15,8), color='black')\n",
    "#ax2.set_yscale('log')\n",
    "ax2.legend(['Tesla','Coca-Cola','Apple'])\n",
    "ax2.set_title('Daily Volumes' , fontsize = 14)\n",
    "ax2.set_xlabel('Date' , fontsize = 14)\n",
    "ax2.set_ylabel('Volume ($)' , fontsize = 14)"
   ]
  },
  {
   "cell_type": "code",
   "execution_count": 63,
   "metadata": {},
   "outputs": [
    {
     "data": {
      "text/plain": [
       "Text(0.5, 1.0, 'Apple')"
      ]
     },
     "execution_count": 63,
     "metadata": {},
     "output_type": "execute_result"
    },
    {
     "data": {
      "image/png": "[encoded data removed]",
      "text/plain": [
       "<Figure size 1080x720 with 3 Axes>"
      ]
     },
     "metadata": {
      "needs_background": "light"
     },
     "output_type": "display_data"
    }
   ],
   "source": [
    "fig, axs = plt.subplots(3,1, sharex=True, sharey=True)\n",
    "crsp.vol[tesla].plot.bar(figsize=(15,10), color='blue', use_index=False, ax=axs[0])\n",
    "axs[0].set_title('Tesla')\n",
    "crsp.vol[coca].plot.bar(figsize=(15,10), color='red', use_index=False, ax=axs[1])\n",
    "axs[1].set_title('Coca-Cola')\n",
    "crsp.vol[apple].plot.bar(figsize=(15,10), color='black', use_index=False, ax=axs[2])\n",
    "axs[2].set_title('Apple')"
   ]
  },
  {
   "cell_type": "markdown",
   "metadata": {},
   "source": [
    "### Monthly volume"
   ]
  },
  {
   "cell_type": "code",
   "execution_count": 64,
   "metadata": {},
   "outputs": [],
   "source": [
    "crsp1 = crsp.groupby('ticker').resample('M').sum()"
   ]
  },
  {
   "cell_type": "code",
   "execution_count": 65,
   "metadata": {},
   "outputs": [
    {
     "data": {
      "text/plain": [
       "Text(0.5, 1.0, 'Apple')"
      ]
     },
     "execution_count": 65,
     "metadata": {},
     "output_type": "execute_result"
    },
    {
     "data": {
      "image/png": "[encoded data removed]",
      "text/plain": [
       "<Figure size 1080x576 with 3 Axes>"
      ]
     },
     "metadata": {
      "needs_background": "light"
     },
     "output_type": "display_data"
    }
   ],
   "source": [
    "fig, axs = plt.subplots(3,1, sharex=True, sharey=True)\n",
    "crsp1.loc['TSLA'].vol.plot.bar(figsize=(15,8), color='blue', use_index=False, ax=axs[0])\n",
    "axs[0].set_title('Tesla')\n",
    "crsp1.loc['KO'].vol.plot.bar(figsize=(15,8), color='red', use_index=False, ax=axs[1])\n",
    "axs[1].set_title('Coca-Cola')\n",
    "crsp1.loc['AAPL'].vol.plot.bar(figsize=(15,8), color='black', use_index=False, ax=axs[2])\n",
    "axs[2].set_title('Apple')"
   ]
  },
  {
   "cell_type": "markdown",
   "metadata": {},
   "source": [
    "# Question 2 \n",
    "#### Are the returns of Tesla, Coca-Cola, and Apple normally distributed? First use an appropriate plot, and then use at least one statistical test. Comment your results.\n",
    "## Tesla"
   ]
  },
  {
   "cell_type": "code",
   "execution_count": 66,
   "metadata": {},
   "outputs": [
    {
     "data": {
      "image/png": "[encoded data removed]",
      "text/plain": [
       "<Figure size 720x432 with 1 Axes>"
      ]
     },
     "metadata": {
      "needs_background": "light"
     },
     "output_type": "display_data"
    }
   ],
   "source": [
    "# ploting by using probplot to check normality\n",
    "plt.figure(figsize=(10,6))\n",
    "sp.stats.probplot(crsp.ret[tesla],plot=plt)\n",
    "plt.show()"
   ]
  },
  {
   "cell_type": "code",
   "execution_count": 67,
   "metadata": {},
   "outputs": [
    {
     "data": {
      "text/plain": [
       "Text(0.5, 1.0, 'Tesla return frequency')"
      ]
     },
     "execution_count": 67,
     "metadata": {},
     "output_type": "execute_result"
    },
    {
     "data": {
      "image/png": "[encoded data removed]",
      "text/plain": [
       "<Figure size 720x432 with 1 Axes>"
      ]
     },
     "metadata": {
      "needs_background": "light"
     },
     "output_type": "display_data"
    }
   ],
   "source": [
    "# ploting data histogram to comparison with normal probability density function\n",
    "fig, axs = plt.subplots(figsize=(10,6))\n",
    "sns.histplot(crsp.ret[tesla], binwidth=0.0015, ax=axs)\n",
    "sns.kdeplot(crsp.ret[tesla], ax=axs)\n",
    "axs.set_title('Tesla return frequency', fontsize = 14)"
   ]
  },
  {
   "cell_type": "code",
   "execution_count": 68,
   "metadata": {},
   "outputs": [
    {
     "data": {
      "text/plain": [
       "(8.562291746231027e-99, 1.0489577759993148e-21, 0.0, 8.530859802206511e-14)"
      ]
     },
     "execution_count": 68,
     "metadata": {},
     "output_type": "execute_result"
    }
   ],
   "source": [
    "# Performing statistical tests to test normality\n",
    "sp.stats.kstest(crsp.ret[tesla], cdf = 'norm')[1],sp.stats.normaltest(crsp.ret[tesla])[1],\\\n",
    "    sp.stats.jarque_bera(crsp.ret[tesla])[1], sp.stats.shapiro(crsp.ret[tesla])[1]"
   ]
  },
  {
   "cell_type": "markdown",
   "metadata": {},
   "source": [
    "**`Answer:`** Null hypothesis $(H_{0})$ in these tests are normality.\n",
    "P-values for these tests are very low, so we can reject the $H_{0}$ (normality)\\\n",
    "Also, the outliers at the tails of distribution don't follow normal distribution and make the returns distribution different from normal one."
   ]
  },
  {
   "cell_type": "markdown",
   "metadata": {},
   "source": [
    "## Coca-Cola"
   ]
  },
  {
   "cell_type": "code",
   "execution_count": 69,
   "metadata": {},
   "outputs": [
    {
     "data": {
      "image/png": "[encoded data removed]",
      "text/plain": [
       "<Figure size 720x432 with 1 Axes>"
      ]
     },
     "metadata": {
      "needs_background": "light"
     },
     "output_type": "display_data"
    }
   ],
   "source": [
    "# ploting by using probplot to check normality\n",
    "plt.figure(figsize=(10,6))\n",
    "sp.stats.probplot(crsp.ret[coca],plot=plt)\n",
    "plt.show()"
   ]
  },
  {
   "cell_type": "code",
   "execution_count": 70,
   "metadata": {},
   "outputs": [
    {
     "data": {
      "text/plain": [
       "Text(0.5, 1.0, 'Coca-Cola return frequency')"
      ]
     },
     "execution_count": 70,
     "metadata": {},
     "output_type": "execute_result"
    },
    {
     "data": {
      "image/png": "[encoded data removed]",
      "text/plain": [
       "<Figure size 720x432 with 1 Axes>"
      ]
     },
     "metadata": {
      "needs_background": "light"
     },
     "output_type": "display_data"
    }
   ],
   "source": [
    "# ploting data histogram to comparison with normal probability density function\n",
    "fig, axs = plt.subplots(figsize=(10,6))\n",
    "sns.histplot(crsp.ret[coca], binwidth=0.0015, ax=axs)\n",
    "sns.kdeplot(crsp.ret[coca], ax=axs)\n",
    "axs.set_title('Coca-Cola return frequency', fontsize = 14)"
   ]
  },
  {
   "cell_type": "code",
   "execution_count": 71,
   "metadata": {},
   "outputs": [
    {
     "data": {
      "text/plain": [
       "(6.546556605338113e-111, 5.227340490785802e-15, 0.0, 6.989638312582258e-10)"
      ]
     },
     "execution_count": 71,
     "metadata": {},
     "output_type": "execute_result"
    }
   ],
   "source": [
    "# Performing statistical tests to test normality\n",
    "sp.stats.kstest(crsp.ret[coca], cdf = 'norm')[1],sp.stats.normaltest(crsp.ret[coca])[1],\\\n",
    "    sp.stats.jarque_bera(crsp.ret[coca])[1], sp.stats.shapiro(crsp.ret[coca])[1]"
   ]
  },
  {
   "cell_type": "markdown",
   "metadata": {},
   "source": [
    "**`Answer:`** Null hypothesis $(H_{0})$ in these tests are normality.\n",
    "P-values for these tests are very low, so we can reject the $H_{0}$ (normality) \\\n",
    "Also, the outliers at the tails of distribution don't follow normal distribution and make the returns distribution different from normal one."
   ]
  },
  {
   "cell_type": "markdown",
   "metadata": {},
   "source": [
    "# Apple"
   ]
  },
  {
   "cell_type": "code",
   "execution_count": 72,
   "metadata": {},
   "outputs": [
    {
     "data": {
      "image/png": "[encoded data removed]",
      "text/plain": [
       "<Figure size 720x432 with 1 Axes>"
      ]
     },
     "metadata": {
      "needs_background": "light"
     },
     "output_type": "display_data"
    }
   ],
   "source": [
    "# ploting by using probplot to check normality\n",
    "plt.figure(figsize=(10,6))\n",
    "sp.stats.probplot(crsp.ret[apple],plot=plt)\n",
    "plt.show()"
   ]
  },
  {
   "cell_type": "code",
   "execution_count": 73,
   "metadata": {},
   "outputs": [
    {
     "data": {
      "text/plain": [
       "Text(0.5, 1.0, 'Apple return frequency')"
      ]
     },
     "execution_count": 73,
     "metadata": {},
     "output_type": "execute_result"
    },
    {
     "data": {
      "image/png": "[encoded data removed]",
      "text/plain": [
       "<Figure size 720x432 with 1 Axes>"
      ]
     },
     "metadata": {
      "needs_background": "light"
     },
     "output_type": "display_data"
    }
   ],
   "source": [
    "# ploting data histogram to comparison with normal probability density function\n",
    "fig, axs = plt.subplots(figsize=(10,6))\n",
    "sns.histplot(crsp.ret[apple], binwidth=0.0015, ax=axs)\n",
    "sns.kdeplot(crsp.ret[apple], ax=axs)\n",
    "axs.set_title('Apple return frequency', fontsize = 14)"
   ]
  },
  {
   "cell_type": "code",
   "execution_count": 74,
   "metadata": {},
   "outputs": [
    {
     "data": {
      "text/plain": [
       "(6.581742597256982e-106, 1.9480123338549199e-10, 0.0, 6.103441862158332e-13)"
      ]
     },
     "execution_count": 74,
     "metadata": {},
     "output_type": "execute_result"
    }
   ],
   "source": [
    "# Performing statistical tests to test normality\n",
    "sp.stats.kstest(crsp.ret[apple], cdf = 'norm')[1],sp.stats.normaltest(crsp.ret[apple])[1],\\\n",
    "    sp.stats.jarque_bera(crsp.ret[apple])[1], sp.stats.shapiro(crsp.ret[apple])[1]"
   ]
  },
  {
   "cell_type": "markdown",
   "metadata": {},
   "source": [
    "**`Answer:`** Null hypothesis $(H_{0})$ in these tests are normality.\n",
    "P-values for these tests are very low, so we can reject the $H_{0}$ (normality) \\\n",
    "Also, the outliers at the tails of distribution don't follow normal distribution and make the returns distribution different from normal one."
   ]
  },
  {
   "cell_type": "markdown",
   "metadata": {},
   "source": [
    "# Question 3"
   ]
  },
  {
   "cell_type": "markdown",
   "metadata": {},
   "source": [
    "### First part\n",
    "Are mean returns in any of the stocks (Tesla, Coca-Cola, and Apple) significantly different? (ie.\n",
    "$H_0$: $\\mu_{TSLA} - \\mu_{AAPL} = 0$ and $\\mu_{TSLA} - \\mu_{KO} = 0$ and $\\mu_{AAPL} - \\mu_{KO} = 0$)"
   ]
  },
  {
   "cell_type": "markdown",
   "metadata": {},
   "source": [
    "# **`Answer:`** \n",
    "To check $H_0$: ($\\mu_{TSLA} - \\mu_{AAPL} = 0$ and $\\mu_{TSLA} - \\mu_{KO} = 0$ and $\\mu_{AAPL} - \\mu_{KO} = 0$), first we check three seprate $H_{0}$ (ie. $H_0$: $\\mu_{TSLA} - \\mu_{AAPL} = 0$ and $H_0$: $\\mu_{TSLA} - \\mu_{KO} = 0$  $H_0$: $\\mu_{AAPL} - \\mu_{KO}= 0$) and then we use Bonferroni correction to test joint hypothesis. (main $H_0$)\n",
    "\n",
    "If we choose significance level of $\\alpha = 5%$ for joint hypothesis, then we should to cosider $\\alpha = 5 / 3 = 1.67$% for each seprate test\n",
    "\n",
    "for checking each three seprate $H_0$ we can follow two approachs"
   ]
  },
  {
   "cell_type": "markdown",
   "metadata": {},
   "source": [
    "## **First approch**"
   ]
  },
  {
   "cell_type": "markdown",
   "metadata": {},
   "source": [
    "We get three subsets of data, each one contains only two stocks and create a dummy for Apple and a dummy for Tesla \\\n",
    "Then by using each data subset we run ols regression and regress return on dummy, the estimation of coefficient of dummy is difference in mean returns of two stock.\n",
    "\n",
    "For example to evaluating if $H_0$: $\\mu_{AAPL} - \\mu_{TSLA} = 0$ we get a subset of data that includes only Tela and Apple\\\n",
    "Then by using this subset of date we run the following regression\n",
    "\n",
    "$ret$ = $\\alpha + \\beta \\times D_{Tesla} + \\epsilon$ "
   ]
  },
  {
   "cell_type": "markdown",
   "metadata": {},
   "source": [
    "So $\\alpha$ is equivalent of $\\mu_{AAPL}$ and\\\n",
    "$\\beta$ is equaivalent of $(\\mu_{TSLA} - \\mu_{AAPL})$\\\n",
    "Then we can use p-value from regression result to check if it is significantly different from zero.\n",
    "\n",
    "Since we use two firms returns in regression, so the variance of errors are different for each firm, so we use heteroscedasticity robust (HC1) in regression.\n",
    "\n",
    "Based on efficient market theorem, it's not possible to predict return using the previous returns, so there is no seial corrolation in returns, so there is no need to use HCA covariance correction in regression."
   ]
  },
  {
   "cell_type": "code",
   "execution_count": 75,
   "metadata": {},
   "outputs": [],
   "source": [
    "crsp3 = crsp.copy()\n",
    "crsp3['t_d'] = 0\n",
    "crsp3['a_d'] = 0\n",
    "crsp3.loc[crsp3['ticker'] == 'TSLA', ['t_d']] = 1\n",
    "crsp3.loc[crsp3['ticker'] == 'AAPL', ['a_d']] = 1\n",
    "tesla_apple_df = crsp3[(tesla) | (apple)]\n",
    "tesla_coca_df = crsp3[(tesla) | (coca)]\n",
    "apple_coca_df = crsp3[(apple) | (coca)]"
   ]
  },
  {
   "cell_type": "markdown",
   "metadata": {},
   "source": [
    "### First regression\n",
    "$ret$ = $\\alpha + \\beta \\times D_{Tesla} + \\epsilon$ "
   ]
  },
  {
   "cell_type": "code",
   "execution_count": 76,
   "metadata": {},
   "outputs": [
    {
     "data": {
      "text/html": [
       "<table class=\"simpletable\">\n",
       "<caption>OLS Regression Results</caption>\n",
       "<tr>\n",
       "  <th>Dep. Variable:</th>           <td>ret</td>       <th>  R-squared:         </th> <td>   0.000</td>\n",
       "</tr>\n",
       "<tr>\n",
       "  <th>Model:</th>                   <td>OLS</td>       <th>  Adj. R-squared:    </th> <td>  -0.001</td>\n",
       "</tr>\n",
       "<tr>\n",
       "  <th>Method:</th>             <td>Least Squares</td>  <th>  F-statistic:       </th> <td>  0.1319</td>\n",
       "</tr>\n",
       "<tr>\n",
       "  <th>Date:</th>             <td>Fri, 25 Feb 2022</td> <th>  Prob (F-statistic):</th>  <td> 0.717</td> \n",
       "</tr>\n",
       "<tr>\n",
       "  <th>Time:</th>                 <td>16:45:11</td>     <th>  Log-Likelihood:    </th> <td>  2320.8</td>\n",
       "</tr>\n",
       "<tr>\n",
       "  <th>No. Observations:</th>      <td>  1004</td>      <th>  AIC:               </th> <td>  -4638.</td>\n",
       "</tr>\n",
       "<tr>\n",
       "  <th>Df Residuals:</th>          <td>  1002</td>      <th>  BIC:               </th> <td>  -4628.</td>\n",
       "</tr>\n",
       "<tr>\n",
       "  <th>Df Model:</th>              <td>     1</td>      <th>                     </th>     <td> </td>   \n",
       "</tr>\n",
       "<tr>\n",
       "  <th>Covariance Type:</th>         <td>HC1</td>       <th>                     </th>     <td> </td>   \n",
       "</tr>\n",
       "</table>\n",
       "<table class=\"simpletable\">\n",
       "<tr>\n",
       "      <td></td>         <th>coef</th>     <th>std err</th>      <th>t</th>      <th>P>|t|</th>  <th>[0.025</th>    <th>0.975]</th>  \n",
       "</tr>\n",
       "<tr>\n",
       "  <th>Intercept</th> <td>    0.0008</td> <td>    0.001</td> <td>    1.178</td> <td> 0.239</td> <td>   -0.001</td> <td>    0.002</td>\n",
       "</tr>\n",
       "<tr>\n",
       "  <th>t_d</th>       <td>    0.0006</td> <td>    0.002</td> <td>    0.363</td> <td> 0.717</td> <td>   -0.002</td> <td>    0.004</td>\n",
       "</tr>\n",
       "</table>\n",
       "<table class=\"simpletable\">\n",
       "<tr>\n",
       "  <th>Omnibus:</th>       <td>229.741</td> <th>  Durbin-Watson:     </th> <td>   2.124</td>\n",
       "</tr>\n",
       "<tr>\n",
       "  <th>Prob(Omnibus):</th> <td> 0.000</td>  <th>  Jarque-Bera (JB):  </th> <td>2722.502</td>\n",
       "</tr>\n",
       "<tr>\n",
       "  <th>Skew:</th>          <td> 0.689</td>  <th>  Prob(JB):          </th> <td>    0.00</td>\n",
       "</tr>\n",
       "<tr>\n",
       "  <th>Kurtosis:</th>      <td>10.949</td>  <th>  Cond. No.          </th> <td>    2.62</td>\n",
       "</tr>\n",
       "</table><br/><br/>Notes:<br/>[1] Standard Errors are heteroscedasticity robust (HC1)"
      ],
      "text/plain": [
       "<class 'statsmodels.iolib.summary.Summary'>\n",
       "\"\"\"\n",
       "                            OLS Regression Results                            \n",
       "==============================================================================\n",
       "Dep. Variable:                    ret   R-squared:                       0.000\n",
       "Model:                            OLS   Adj. R-squared:                 -0.001\n",
       "Method:                 Least Squares   F-statistic:                    0.1319\n",
       "Date:                Fri, 25 Feb 2022   Prob (F-statistic):              0.717\n",
       "Time:                        16:45:11   Log-Likelihood:                 2320.8\n",
       "No. Observations:                1004   AIC:                            -4638.\n",
       "Df Residuals:                    1002   BIC:                            -4628.\n",
       "Df Model:                           1                                         \n",
       "Covariance Type:                  HC1                                         \n",
       "==============================================================================\n",
       "                 coef    std err          t      P>|t|      [0.025      0.975]\n",
       "------------------------------------------------------------------------------\n",
       "Intercept      0.0008      0.001      1.178      0.239      -0.001       0.002\n",
       "t_d            0.0006      0.002      0.363      0.717      -0.002       0.004\n",
       "==============================================================================\n",
       "Omnibus:                      229.741   Durbin-Watson:                   2.124\n",
       "Prob(Omnibus):                  0.000   Jarque-Bera (JB):             2722.502\n",
       "Skew:                           0.689   Prob(JB):                         0.00\n",
       "Kurtosis:                      10.949   Cond. No.                         2.62\n",
       "==============================================================================\n",
       "\n",
       "Notes:\n",
       "[1] Standard Errors are heteroscedasticity robust (HC1)\n",
       "\"\"\""
      ]
     },
     "execution_count": 76,
     "metadata": {},
     "output_type": "execute_result"
    }
   ],
   "source": [
    "ols = sm.ols(formula='ret ~ t_d', data=tesla_apple_df).fit(cov_type='HC1', use_t=True)\n",
    "ols.summary()"
   ]
  },
  {
   "cell_type": "markdown",
   "metadata": {},
   "source": [
    "From OLS results we find that p-value of the coefficient of dummy is 0.717, so we can not reject \\\n",
    "$H_0$: $\\mu_{TSLA} - \\mu_{AAPL} = 0$"
   ]
  },
  {
   "cell_type": "markdown",
   "metadata": {},
   "source": [
    "### Second regression\n",
    "$ret$ = $\\alpha + \\beta \\times D_{Tesla} + \\epsilon$ "
   ]
  },
  {
   "cell_type": "code",
   "execution_count": 77,
   "metadata": {},
   "outputs": [
    {
     "data": {
      "text/html": [
       "<table class=\"simpletable\">\n",
       "<caption>OLS Regression Results</caption>\n",
       "<tr>\n",
       "  <th>Dep. Variable:</th>           <td>ret</td>       <th>  R-squared:         </th> <td>   0.000</td>\n",
       "</tr>\n",
       "<tr>\n",
       "  <th>Model:</th>                   <td>OLS</td>       <th>  Adj. R-squared:    </th> <td>  -0.001</td>\n",
       "</tr>\n",
       "<tr>\n",
       "  <th>Method:</th>             <td>Least Squares</td>  <th>  F-statistic:       </th> <td>  0.4219</td>\n",
       "</tr>\n",
       "<tr>\n",
       "  <th>Date:</th>             <td>Fri, 25 Feb 2022</td> <th>  Prob (F-statistic):</th>  <td> 0.516</td> \n",
       "</tr>\n",
       "<tr>\n",
       "  <th>Time:</th>                 <td>16:45:12</td>     <th>  Log-Likelihood:    </th> <td>  2398.4</td>\n",
       "</tr>\n",
       "<tr>\n",
       "  <th>No. Observations:</th>      <td>  1004</td>      <th>  AIC:               </th> <td>  -4793.</td>\n",
       "</tr>\n",
       "<tr>\n",
       "  <th>Df Residuals:</th>          <td>  1002</td>      <th>  BIC:               </th> <td>  -4783.</td>\n",
       "</tr>\n",
       "<tr>\n",
       "  <th>Df Model:</th>              <td>     1</td>      <th>                     </th>     <td> </td>   \n",
       "</tr>\n",
       "<tr>\n",
       "  <th>Covariance Type:</th>         <td>HC1</td>       <th>                     </th>     <td> </td>   \n",
       "</tr>\n",
       "</table>\n",
       "<table class=\"simpletable\">\n",
       "<tr>\n",
       "      <td></td>         <th>coef</th>     <th>std err</th>      <th>t</th>      <th>P>|t|</th>  <th>[0.025</th>    <th>0.975]</th>  \n",
       "</tr>\n",
       "<tr>\n",
       "  <th>Intercept</th> <td>    0.0004</td> <td>    0.000</td> <td>    1.233</td> <td> 0.218</td> <td>   -0.000</td> <td>    0.001</td>\n",
       "</tr>\n",
       "<tr>\n",
       "  <th>t_d</th>       <td>    0.0009</td> <td>    0.001</td> <td>    0.650</td> <td> 0.516</td> <td>   -0.002</td> <td>    0.004</td>\n",
       "</tr>\n",
       "</table>\n",
       "<table class=\"simpletable\">\n",
       "<tr>\n",
       "  <th>Omnibus:</th>       <td>295.089</td> <th>  Durbin-Watson:     </th> <td>   2.156</td>\n",
       "</tr>\n",
       "<tr>\n",
       "  <th>Prob(Omnibus):</th> <td> 0.000</td>  <th>  Jarque-Bera (JB):  </th> <td>5459.185</td>\n",
       "</tr>\n",
       "<tr>\n",
       "  <th>Skew:</th>          <td> 0.855</td>  <th>  Prob(JB):          </th> <td>    0.00</td>\n",
       "</tr>\n",
       "<tr>\n",
       "  <th>Kurtosis:</th>      <td>14.295</td>  <th>  Cond. No.          </th> <td>    2.62</td>\n",
       "</tr>\n",
       "</table><br/><br/>Notes:<br/>[1] Standard Errors are heteroscedasticity robust (HC1)"
      ],
      "text/plain": [
       "<class 'statsmodels.iolib.summary.Summary'>\n",
       "\"\"\"\n",
       "                            OLS Regression Results                            \n",
       "==============================================================================\n",
       "Dep. Variable:                    ret   R-squared:                       0.000\n",
       "Model:                            OLS   Adj. R-squared:                 -0.001\n",
       "Method:                 Least Squares   F-statistic:                    0.4219\n",
       "Date:                Fri, 25 Feb 2022   Prob (F-statistic):              0.516\n",
       "Time:                        16:45:12   Log-Likelihood:                 2398.4\n",
       "No. Observations:                1004   AIC:                            -4793.\n",
       "Df Residuals:                    1002   BIC:                            -4783.\n",
       "Df Model:                           1                                         \n",
       "Covariance Type:                  HC1                                         \n",
       "==============================================================================\n",
       "                 coef    std err          t      P>|t|      [0.025      0.975]\n",
       "------------------------------------------------------------------------------\n",
       "Intercept      0.0004      0.000      1.233      0.218      -0.000       0.001\n",
       "t_d            0.0009      0.001      0.650      0.516      -0.002       0.004\n",
       "==============================================================================\n",
       "Omnibus:                      295.089   Durbin-Watson:                   2.156\n",
       "Prob(Omnibus):                  0.000   Jarque-Bera (JB):             5459.185\n",
       "Skew:                           0.855   Prob(JB):                         0.00\n",
       "Kurtosis:                      14.295   Cond. No.                         2.62\n",
       "==============================================================================\n",
       "\n",
       "Notes:\n",
       "[1] Standard Errors are heteroscedasticity robust (HC1)\n",
       "\"\"\""
      ]
     },
     "execution_count": 77,
     "metadata": {},
     "output_type": "execute_result"
    }
   ],
   "source": [
    "ols = sm.ols(formula='ret ~ t_d', data=tesla_coca_df).fit(cov_type='HC1', use_t=True)\n",
    "ols.summary()"
   ]
  },
  {
   "cell_type": "markdown",
   "metadata": {},
   "source": [
    "From OLS results we find that p-value of the coefficient of dummy is 0.65, so we can not reject\\\n",
    "$H_0$: $\\mu_{TSLA} - \\mu_{KO} = 0$"
   ]
  },
  {
   "cell_type": "markdown",
   "metadata": {},
   "source": [
    "### Third regression\n",
    "$ret$ = $\\alpha + \\beta \\times D_{Apple} + \\epsilon$ "
   ]
  },
  {
   "cell_type": "code",
   "execution_count": 78,
   "metadata": {},
   "outputs": [
    {
     "data": {
      "text/html": [
       "<table class=\"simpletable\">\n",
       "<caption>OLS Regression Results</caption>\n",
       "<tr>\n",
       "  <th>Dep. Variable:</th>           <td>ret</td>       <th>  R-squared:         </th> <td>   0.000</td>\n",
       "</tr>\n",
       "<tr>\n",
       "  <th>Model:</th>                   <td>OLS</td>       <th>  Adj. R-squared:    </th> <td>  -0.001</td>\n",
       "</tr>\n",
       "<tr>\n",
       "  <th>Method:</th>             <td>Least Squares</td>  <th>  F-statistic:       </th> <td>  0.2282</td>\n",
       "</tr>\n",
       "<tr>\n",
       "  <th>Date:</th>             <td>Fri, 25 Feb 2022</td> <th>  Prob (F-statistic):</th>  <td> 0.633</td> \n",
       "</tr>\n",
       "<tr>\n",
       "  <th>Time:</th>                 <td>16:45:12</td>     <th>  Log-Likelihood:    </th> <td>  3019.7</td>\n",
       "</tr>\n",
       "<tr>\n",
       "  <th>No. Observations:</th>      <td>  1004</td>      <th>  AIC:               </th> <td>  -6035.</td>\n",
       "</tr>\n",
       "<tr>\n",
       "  <th>Df Residuals:</th>          <td>  1002</td>      <th>  BIC:               </th> <td>  -6026.</td>\n",
       "</tr>\n",
       "<tr>\n",
       "  <th>Df Model:</th>              <td>     1</td>      <th>                     </th>     <td> </td>   \n",
       "</tr>\n",
       "<tr>\n",
       "  <th>Covariance Type:</th>         <td>HC1</td>       <th>                     </th>     <td> </td>   \n",
       "</tr>\n",
       "</table>\n",
       "<table class=\"simpletable\">\n",
       "<tr>\n",
       "      <td></td>         <th>coef</th>     <th>std err</th>      <th>t</th>      <th>P>|t|</th>  <th>[0.025</th>    <th>0.975]</th>  \n",
       "</tr>\n",
       "<tr>\n",
       "  <th>Intercept</th> <td>    0.0004</td> <td>    0.000</td> <td>    1.233</td> <td> 0.218</td> <td>   -0.000</td> <td>    0.001</td>\n",
       "</tr>\n",
       "<tr>\n",
       "  <th>a_d</th>       <td>    0.0004</td> <td>    0.001</td> <td>    0.478</td> <td> 0.633</td> <td>   -0.001</td> <td>    0.002</td>\n",
       "</tr>\n",
       "</table>\n",
       "<table class=\"simpletable\">\n",
       "<tr>\n",
       "  <th>Omnibus:</th>       <td>126.017</td> <th>  Durbin-Watson:     </th> <td>   1.900</td> \n",
       "</tr>\n",
       "<tr>\n",
       "  <th>Prob(Omnibus):</th> <td> 0.000</td>  <th>  Jarque-Bera (JB):  </th> <td>1219.423</td> \n",
       "</tr>\n",
       "<tr>\n",
       "  <th>Skew:</th>          <td>-0.080</td>  <th>  Prob(JB):          </th> <td>1.61e-265</td>\n",
       "</tr>\n",
       "<tr>\n",
       "  <th>Kurtosis:</th>      <td> 8.397</td>  <th>  Cond. No.          </th> <td>    2.62</td> \n",
       "</tr>\n",
       "</table><br/><br/>Notes:<br/>[1] Standard Errors are heteroscedasticity robust (HC1)"
      ],
      "text/plain": [
       "<class 'statsmodels.iolib.summary.Summary'>\n",
       "\"\"\"\n",
       "                            OLS Regression Results                            \n",
       "==============================================================================\n",
       "Dep. Variable:                    ret   R-squared:                       0.000\n",
       "Model:                            OLS   Adj. R-squared:                 -0.001\n",
       "Method:                 Least Squares   F-statistic:                    0.2282\n",
       "Date:                Fri, 25 Feb 2022   Prob (F-statistic):              0.633\n",
       "Time:                        16:45:12   Log-Likelihood:                 3019.7\n",
       "No. Observations:                1004   AIC:                            -6035.\n",
       "Df Residuals:                    1002   BIC:                            -6026.\n",
       "Df Model:                           1                                         \n",
       "Covariance Type:                  HC1                                         \n",
       "==============================================================================\n",
       "                 coef    std err          t      P>|t|      [0.025      0.975]\n",
       "------------------------------------------------------------------------------\n",
       "Intercept      0.0004      0.000      1.233      0.218      -0.000       0.001\n",
       "a_d            0.0004      0.001      0.478      0.633      -0.001       0.002\n",
       "==============================================================================\n",
       "Omnibus:                      126.017   Durbin-Watson:                   1.900\n",
       "Prob(Omnibus):                  0.000   Jarque-Bera (JB):             1219.423\n",
       "Skew:                          -0.080   Prob(JB):                    1.61e-265\n",
       "Kurtosis:                       8.397   Cond. No.                         2.62\n",
       "==============================================================================\n",
       "\n",
       "Notes:\n",
       "[1] Standard Errors are heteroscedasticity robust (HC1)\n",
       "\"\"\""
      ]
     },
     "execution_count": 78,
     "metadata": {},
     "output_type": "execute_result"
    }
   ],
   "source": [
    "ols = sm.ols(formula='ret ~ a_d', data=apple_coca_df).fit(cov_type='HC1', use_t=True)\n",
    "ols.summary()"
   ]
  },
  {
   "cell_type": "markdown",
   "metadata": {},
   "source": [
    "From OLS results we find that p-value of the coefficient of dummy is 0.633, so we can not reject\\\n",
    "$H_0$: $\\mu_{AAPL} - \\mu_{KO} = 0$"
   ]
  },
  {
   "cell_type": "markdown",
   "metadata": {},
   "source": [
    "## `Conclusion`\n",
    "All seprate $H_0$ can not be jected, so we can not jecet the joint $H_0$"
   ]
  },
  {
   "cell_type": "markdown",
   "metadata": {},
   "source": [
    "## **Second approch**\n",
    "First we construct three new varibles which are the difference between returns of two stoks. So the mean of these new variables are the difference between mean of return of two stock \\\n",
    "Second we construct the t-stat to check if the mean of these new variables are different from zero.\\\n",
    "For example: \\\n",
    "$Z_{1} = ret_{TSLA} - ret_{AAPL}$ then $\\mu_{Z} = \\mu_{TSLA} - \\mu_{AAPL}$ \n",
    "\n",
    "t-stat = $\\frac{(\\mu_{z} -  0)} {(\\sigma_{\\mu_{Z}})}$ \n",
    "\n",
    "if we suppose returns are i.i.d. then: \n",
    "\n",
    "$\\sigma_{\\mu_{Z}} = \\frac{\\sigma_{Z}} {\\sqrt{N}}$\n",
    "\n",
    "\n",
    "Based on Central Limit Theorem (CLT) the mean of large samples assymtaticly follows the normal distribution. so we can use normal distribution to calculate the p-values."
   ]
  },
  {
   "cell_type": "code",
   "execution_count": 79,
   "metadata": {},
   "outputs": [
    {
     "data": {
      "text/html": [
       "<div>\n",
       "<style scoped>\n",
       "    .dataframe tbody tr th:only-of-type {\n",
       "        vertical-align: middle;\n",
       "    }\n",
       "\n",
       "    .dataframe tbody tr th {\n",
       "        vertical-align: top;\n",
       "    }\n",
       "\n",
       "    .dataframe thead th {\n",
       "        text-align: right;\n",
       "    }\n",
       "</style>\n",
       "<table border=\"1\" class=\"dataframe\">\n",
       "  <thead>\n",
       "    <tr style=\"text-align: right;\">\n",
       "      <th></th>\n",
       "      <th>tesla</th>\n",
       "      <th>coca</th>\n",
       "      <th>apple</th>\n",
       "      <th>tesla_apple</th>\n",
       "      <th>tesla_coca</th>\n",
       "      <th>apple_coca</th>\n",
       "    </tr>\n",
       "    <tr>\n",
       "      <th>date</th>\n",
       "      <th></th>\n",
       "      <th></th>\n",
       "      <th></th>\n",
       "      <th></th>\n",
       "      <th></th>\n",
       "      <th></th>\n",
       "    </tr>\n",
       "  </thead>\n",
       "  <tbody>\n",
       "    <tr>\n",
       "      <th>2017-01-03</th>\n",
       "      <td>0.015443</td>\n",
       "      <td>0.008201</td>\n",
       "      <td>0.002849</td>\n",
       "      <td>0.012594</td>\n",
       "      <td>0.007242</td>\n",
       "      <td>-0.005352</td>\n",
       "    </tr>\n",
       "    <tr>\n",
       "      <th>2017-01-04</th>\n",
       "      <td>0.046085</td>\n",
       "      <td>-0.003588</td>\n",
       "      <td>-0.001119</td>\n",
       "      <td>0.047204</td>\n",
       "      <td>0.049673</td>\n",
       "      <td>0.002469</td>\n",
       "    </tr>\n",
       "    <tr>\n",
       "      <th>2017-01-05</th>\n",
       "      <td>-0.001057</td>\n",
       "      <td>0.002401</td>\n",
       "      <td>0.005085</td>\n",
       "      <td>-0.006142</td>\n",
       "      <td>-0.003458</td>\n",
       "      <td>0.002684</td>\n",
       "    </tr>\n",
       "    <tr>\n",
       "      <th>2017-01-06</th>\n",
       "      <td>0.009967</td>\n",
       "      <td>-0.000239</td>\n",
       "      <td>0.011148</td>\n",
       "      <td>-0.001181</td>\n",
       "      <td>0.010206</td>\n",
       "      <td>0.011387</td>\n",
       "    </tr>\n",
       "    <tr>\n",
       "      <th>2017-01-09</th>\n",
       "      <td>0.009912</td>\n",
       "      <td>-0.010062</td>\n",
       "      <td>0.009159</td>\n",
       "      <td>0.000753</td>\n",
       "      <td>0.019974</td>\n",
       "      <td>0.019221</td>\n",
       "    </tr>\n",
       "    <tr>\n",
       "      <th>...</th>\n",
       "      <td>...</td>\n",
       "      <td>...</td>\n",
       "      <td>...</td>\n",
       "      <td>...</td>\n",
       "      <td>...</td>\n",
       "      <td>...</td>\n",
       "    </tr>\n",
       "    <tr>\n",
       "      <th>2018-12-24</th>\n",
       "      <td>-0.076242</td>\n",
       "      <td>-0.033845</td>\n",
       "      <td>-0.025874</td>\n",
       "      <td>-0.050368</td>\n",
       "      <td>-0.042397</td>\n",
       "      <td>0.007971</td>\n",
       "    </tr>\n",
       "    <tr>\n",
       "      <th>2018-12-26</th>\n",
       "      <td>0.103930</td>\n",
       "      <td>0.021323</td>\n",
       "      <td>0.070422</td>\n",
       "      <td>0.033508</td>\n",
       "      <td>0.082607</td>\n",
       "      <td>0.049099</td>\n",
       "    </tr>\n",
       "    <tr>\n",
       "      <th>2018-12-27</th>\n",
       "      <td>-0.030544</td>\n",
       "      <td>0.012569</td>\n",
       "      <td>-0.006490</td>\n",
       "      <td>-0.024054</td>\n",
       "      <td>-0.043113</td>\n",
       "      <td>-0.019059</td>\n",
       "    </tr>\n",
       "    <tr>\n",
       "      <th>2018-12-28</th>\n",
       "      <td>0.056116</td>\n",
       "      <td>-0.006943</td>\n",
       "      <td>0.000512</td>\n",
       "      <td>0.055604</td>\n",
       "      <td>0.063059</td>\n",
       "      <td>0.007455</td>\n",
       "    </tr>\n",
       "    <tr>\n",
       "      <th>2018-12-31</th>\n",
       "      <td>-0.003205</td>\n",
       "      <td>0.003178</td>\n",
       "      <td>0.009665</td>\n",
       "      <td>-0.012870</td>\n",
       "      <td>-0.006383</td>\n",
       "      <td>0.006487</td>\n",
       "    </tr>\n",
       "  </tbody>\n",
       "</table>\n",
       "<p>502 rows × 6 columns</p>\n",
       "</div>"
      ],
      "text/plain": [
       "               tesla      coca     apple  tesla_apple  tesla_coca  apple_coca\n",
       "date                                                                         \n",
       "2017-01-03  0.015443  0.008201  0.002849     0.012594    0.007242   -0.005352\n",
       "2017-01-04  0.046085 -0.003588 -0.001119     0.047204    0.049673    0.002469\n",
       "2017-01-05 -0.001057  0.002401  0.005085    -0.006142   -0.003458    0.002684\n",
       "2017-01-06  0.009967 -0.000239  0.011148    -0.001181    0.010206    0.011387\n",
       "2017-01-09  0.009912 -0.010062  0.009159     0.000753    0.019974    0.019221\n",
       "...              ...       ...       ...          ...         ...         ...\n",
       "2018-12-24 -0.076242 -0.033845 -0.025874    -0.050368   -0.042397    0.007971\n",
       "2018-12-26  0.103930  0.021323  0.070422     0.033508    0.082607    0.049099\n",
       "2018-12-27 -0.030544  0.012569 -0.006490    -0.024054   -0.043113   -0.019059\n",
       "2018-12-28  0.056116 -0.006943  0.000512     0.055604    0.063059    0.007455\n",
       "2018-12-31 -0.003205  0.003178  0.009665    -0.012870   -0.006383    0.006487\n",
       "\n",
       "[502 rows x 6 columns]"
      ]
     },
     "execution_count": 79,
     "metadata": {},
     "output_type": "execute_result"
    }
   ],
   "source": [
    "ret_df = pd.merge(crsp.ret[tesla], crsp.ret[coca], on='date')\n",
    "ret_df = pd.merge(ret_df, crsp.ret[apple], on='date')\n",
    "ret_df.columns = ['tesla', 'coca', 'apple']\n",
    "ret_df['tesla_apple'] = ret_df.tesla - ret_df.apple\n",
    "ret_df['tesla_coca'] = ret_df.tesla - ret_df.coca\n",
    "ret_df['apple_coca'] = ret_df.apple - ret_df.coca\n",
    "ret_df"
   ]
  },
  {
   "cell_type": "markdown",
   "metadata": {},
   "source": [
    "$H_0$: $\\mu_{TSLA} - \\mu_{AAPL} = 0$"
   ]
  },
  {
   "cell_type": "code",
   "execution_count": 80,
   "metadata": {},
   "outputs": [
    {
     "data": {
      "text/plain": [
       "0.6762644001618487"
      ]
     },
     "execution_count": 80,
     "metadata": {},
     "output_type": "execute_result"
    }
   ],
   "source": [
    "se = np.sqrt(np.var(ret_df.tesla_apple)/len(ret_df))\n",
    "tstat = np.mean(ret_df.tesla_apple) / se\n",
    "pvalue = 2 * np.minimum(sp.stats.norm.cdf(tstat), (1 - sp.stats.norm.cdf(tstat)))\n",
    "pvalue"
   ]
  },
  {
   "cell_type": "markdown",
   "metadata": {},
   "source": [
    "So we can not reject $H_0$. ie. mean returns are not significantly different"
   ]
  },
  {
   "cell_type": "markdown",
   "metadata": {},
   "source": [
    "$H_0$: $\\mu_{TSLA} - \\mu_{KO} = 0$"
   ]
  },
  {
   "cell_type": "code",
   "execution_count": 81,
   "metadata": {},
   "outputs": [
    {
     "data": {
      "text/plain": [
       "0.5002297648001011"
      ]
     },
     "execution_count": 81,
     "metadata": {},
     "output_type": "execute_result"
    }
   ],
   "source": [
    "se = np.sqrt(np.var(ret_df.tesla_coca)/len(ret_df))\n",
    "tstat = np.mean(ret_df.tesla_coca) / se\n",
    "pvalue = 2 * np.minimum(sp.stats.norm.cdf(tstat), (1 - sp.stats.norm.cdf(tstat)))\n",
    "pvalue"
   ]
  },
  {
   "cell_type": "markdown",
   "metadata": {},
   "source": [
    "So we can not reject $H_0$. ie. mean returns are not significantly different"
   ]
  },
  {
   "cell_type": "markdown",
   "metadata": {},
   "source": [
    "$H_0$: $\\mu_{AAPL} - \\mu_{KO} = 0$"
   ]
  },
  {
   "cell_type": "code",
   "execution_count": 82,
   "metadata": {},
   "outputs": [
    {
     "data": {
      "text/plain": [
       "0.6069229647008831"
      ]
     },
     "execution_count": 82,
     "metadata": {},
     "output_type": "execute_result"
    }
   ],
   "source": [
    "se = np.sqrt(np.var(ret_df.apple_coca)/len(ret_df))\n",
    "tstat = np.mean(ret_df.apple_coca) / se\n",
    "pvalue = 2 * np.minimum(sp.stats.norm.cdf(tstat), (1 - sp.stats.norm.cdf(tstat)))\n",
    "pvalue"
   ]
  },
  {
   "cell_type": "markdown",
   "metadata": {},
   "source": [
    "So we can not reject $H_0$. ie. mean returns are not significantly different\n",
    "## `Conclusion`\n",
    "All seprate $H_0$ can not be jected, so we can not jecet the joint $H_0$"
   ]
  },
  {
   "cell_type": "markdown",
   "metadata": {},
   "source": [
    "### Second part\n",
    "#### Are mean returns of Tesla significantly different on Fridays than on other days?"
   ]
  },
  {
   "cell_type": "code",
   "execution_count": 83,
   "metadata": {},
   "outputs": [
    {
     "name": "stderr",
     "output_type": "stream",
     "text": [
      "C:\\Users\\user66\\AppData\\Local\\Temp/ipykernel_17064/1779772961.py:2: SettingWithCopyWarning: \n",
      "A value is trying to be set on a copy of a slice from a DataFrame\n",
      "\n",
      "See the caveats in the documentation: https://pandas.pydata.org/pandas-docs/stable/user_guide/indexing.html#returning-a-view-versus-a-copy\n",
      "  ret_df.dummy[ret_df.index.weekday == 4] = 1\n"
     ]
    },
    {
     "data": {
      "text/html": [
       "<div>\n",
       "<style scoped>\n",
       "    .dataframe tbody tr th:only-of-type {\n",
       "        vertical-align: middle;\n",
       "    }\n",
       "\n",
       "    .dataframe tbody tr th {\n",
       "        vertical-align: top;\n",
       "    }\n",
       "\n",
       "    .dataframe thead th {\n",
       "        text-align: right;\n",
       "    }\n",
       "</style>\n",
       "<table border=\"1\" class=\"dataframe\">\n",
       "  <thead>\n",
       "    <tr style=\"text-align: right;\">\n",
       "      <th></th>\n",
       "      <th>tesla</th>\n",
       "      <th>coca</th>\n",
       "      <th>apple</th>\n",
       "      <th>tesla_apple</th>\n",
       "      <th>tesla_coca</th>\n",
       "      <th>apple_coca</th>\n",
       "      <th>dummy</th>\n",
       "    </tr>\n",
       "    <tr>\n",
       "      <th>date</th>\n",
       "      <th></th>\n",
       "      <th></th>\n",
       "      <th></th>\n",
       "      <th></th>\n",
       "      <th></th>\n",
       "      <th></th>\n",
       "      <th></th>\n",
       "    </tr>\n",
       "  </thead>\n",
       "  <tbody>\n",
       "    <tr>\n",
       "      <th>2017-01-03</th>\n",
       "      <td>0.015443</td>\n",
       "      <td>0.008201</td>\n",
       "      <td>0.002849</td>\n",
       "      <td>0.012594</td>\n",
       "      <td>0.007242</td>\n",
       "      <td>-0.005352</td>\n",
       "      <td>0</td>\n",
       "    </tr>\n",
       "    <tr>\n",
       "      <th>2017-01-04</th>\n",
       "      <td>0.046085</td>\n",
       "      <td>-0.003588</td>\n",
       "      <td>-0.001119</td>\n",
       "      <td>0.047204</td>\n",
       "      <td>0.049673</td>\n",
       "      <td>0.002469</td>\n",
       "      <td>0</td>\n",
       "    </tr>\n",
       "    <tr>\n",
       "      <th>2017-01-05</th>\n",
       "      <td>-0.001057</td>\n",
       "      <td>0.002401</td>\n",
       "      <td>0.005085</td>\n",
       "      <td>-0.006142</td>\n",
       "      <td>-0.003458</td>\n",
       "      <td>0.002684</td>\n",
       "      <td>0</td>\n",
       "    </tr>\n",
       "    <tr>\n",
       "      <th>2017-01-06</th>\n",
       "      <td>0.009967</td>\n",
       "      <td>-0.000239</td>\n",
       "      <td>0.011148</td>\n",
       "      <td>-0.001181</td>\n",
       "      <td>0.010206</td>\n",
       "      <td>0.011387</td>\n",
       "      <td>1</td>\n",
       "    </tr>\n",
       "    <tr>\n",
       "      <th>2017-01-09</th>\n",
       "      <td>0.009912</td>\n",
       "      <td>-0.010062</td>\n",
       "      <td>0.009159</td>\n",
       "      <td>0.000753</td>\n",
       "      <td>0.019974</td>\n",
       "      <td>0.019221</td>\n",
       "      <td>0</td>\n",
       "    </tr>\n",
       "    <tr>\n",
       "      <th>...</th>\n",
       "      <td>...</td>\n",
       "      <td>...</td>\n",
       "      <td>...</td>\n",
       "      <td>...</td>\n",
       "      <td>...</td>\n",
       "      <td>...</td>\n",
       "      <td>...</td>\n",
       "    </tr>\n",
       "    <tr>\n",
       "      <th>2018-12-24</th>\n",
       "      <td>-0.076242</td>\n",
       "      <td>-0.033845</td>\n",
       "      <td>-0.025874</td>\n",
       "      <td>-0.050368</td>\n",
       "      <td>-0.042397</td>\n",
       "      <td>0.007971</td>\n",
       "      <td>0</td>\n",
       "    </tr>\n",
       "    <tr>\n",
       "      <th>2018-12-26</th>\n",
       "      <td>0.103930</td>\n",
       "      <td>0.021323</td>\n",
       "      <td>0.070422</td>\n",
       "      <td>0.033508</td>\n",
       "      <td>0.082607</td>\n",
       "      <td>0.049099</td>\n",
       "      <td>0</td>\n",
       "    </tr>\n",
       "    <tr>\n",
       "      <th>2018-12-27</th>\n",
       "      <td>-0.030544</td>\n",
       "      <td>0.012569</td>\n",
       "      <td>-0.006490</td>\n",
       "      <td>-0.024054</td>\n",
       "      <td>-0.043113</td>\n",
       "      <td>-0.019059</td>\n",
       "      <td>0</td>\n",
       "    </tr>\n",
       "    <tr>\n",
       "      <th>2018-12-28</th>\n",
       "      <td>0.056116</td>\n",
       "      <td>-0.006943</td>\n",
       "      <td>0.000512</td>\n",
       "      <td>0.055604</td>\n",
       "      <td>0.063059</td>\n",
       "      <td>0.007455</td>\n",
       "      <td>1</td>\n",
       "    </tr>\n",
       "    <tr>\n",
       "      <th>2018-12-31</th>\n",
       "      <td>-0.003205</td>\n",
       "      <td>0.003178</td>\n",
       "      <td>0.009665</td>\n",
       "      <td>-0.012870</td>\n",
       "      <td>-0.006383</td>\n",
       "      <td>0.006487</td>\n",
       "      <td>0</td>\n",
       "    </tr>\n",
       "  </tbody>\n",
       "</table>\n",
       "<p>502 rows × 7 columns</p>\n",
       "</div>"
      ],
      "text/plain": [
       "               tesla      coca     apple  tesla_apple  tesla_coca  apple_coca  \\\n",
       "date                                                                            \n",
       "2017-01-03  0.015443  0.008201  0.002849     0.012594    0.007242   -0.005352   \n",
       "2017-01-04  0.046085 -0.003588 -0.001119     0.047204    0.049673    0.002469   \n",
       "2017-01-05 -0.001057  0.002401  0.005085    -0.006142   -0.003458    0.002684   \n",
       "2017-01-06  0.009967 -0.000239  0.011148    -0.001181    0.010206    0.011387   \n",
       "2017-01-09  0.009912 -0.010062  0.009159     0.000753    0.019974    0.019221   \n",
       "...              ...       ...       ...          ...         ...         ...   \n",
       "2018-12-24 -0.076242 -0.033845 -0.025874    -0.050368   -0.042397    0.007971   \n",
       "2018-12-26  0.103930  0.021323  0.070422     0.033508    0.082607    0.049099   \n",
       "2018-12-27 -0.030544  0.012569 -0.006490    -0.024054   -0.043113   -0.019059   \n",
       "2018-12-28  0.056116 -0.006943  0.000512     0.055604    0.063059    0.007455   \n",
       "2018-12-31 -0.003205  0.003178  0.009665    -0.012870   -0.006383    0.006487   \n",
       "\n",
       "            dummy  \n",
       "date               \n",
       "2017-01-03      0  \n",
       "2017-01-04      0  \n",
       "2017-01-05      0  \n",
       "2017-01-06      1  \n",
       "2017-01-09      0  \n",
       "...           ...  \n",
       "2018-12-24      0  \n",
       "2018-12-26      0  \n",
       "2018-12-27      0  \n",
       "2018-12-28      1  \n",
       "2018-12-31      0  \n",
       "\n",
       "[502 rows x 7 columns]"
      ]
     },
     "execution_count": 83,
     "metadata": {},
     "output_type": "execute_result"
    }
   ],
   "source": [
    "ret_df['dummy'] = 0\n",
    "ret_df.dummy[ret_df.index.weekday == 4] = 1\n",
    "ret_df"
   ]
  },
  {
   "cell_type": "code",
   "execution_count": 84,
   "metadata": {},
   "outputs": [
    {
     "data": {
      "text/html": [
       "<table class=\"simpletable\">\n",
       "<caption>OLS Regression Results</caption>\n",
       "<tr>\n",
       "  <th>Dep. Variable:</th>          <td>tesla</td>      <th>  R-squared:         </th> <td>   0.003</td>\n",
       "</tr>\n",
       "<tr>\n",
       "  <th>Model:</th>                   <td>OLS</td>       <th>  Adj. R-squared:    </th> <td>   0.001</td>\n",
       "</tr>\n",
       "<tr>\n",
       "  <th>Method:</th>             <td>Least Squares</td>  <th>  F-statistic:       </th> <td>   1.293</td>\n",
       "</tr>\n",
       "<tr>\n",
       "  <th>Date:</th>             <td>Fri, 25 Feb 2022</td> <th>  Prob (F-statistic):</th>  <td> 0.256</td> \n",
       "</tr>\n",
       "<tr>\n",
       "  <th>Time:</th>                 <td>16:45:13</td>     <th>  Log-Likelihood:    </th> <td>  1041.8</td>\n",
       "</tr>\n",
       "<tr>\n",
       "  <th>No. Observations:</th>      <td>   502</td>      <th>  AIC:               </th> <td>  -2080.</td>\n",
       "</tr>\n",
       "<tr>\n",
       "  <th>Df Residuals:</th>          <td>   500</td>      <th>  BIC:               </th> <td>  -2071.</td>\n",
       "</tr>\n",
       "<tr>\n",
       "  <th>Df Model:</th>              <td>     1</td>      <th>                     </th>     <td> </td>   \n",
       "</tr>\n",
       "<tr>\n",
       "  <th>Covariance Type:</th>      <td>nonrobust</td>    <th>                     </th>     <td> </td>   \n",
       "</tr>\n",
       "</table>\n",
       "<table class=\"simpletable\">\n",
       "<tr>\n",
       "      <td></td>         <th>coef</th>     <th>std err</th>      <th>t</th>      <th>P>|t|</th>  <th>[0.025</th>    <th>0.975]</th>  \n",
       "</tr>\n",
       "<tr>\n",
       "  <th>Intercept</th> <td>    0.0021</td> <td>    0.002</td> <td>    1.393</td> <td> 0.164</td> <td>   -0.001</td> <td>    0.005</td>\n",
       "</tr>\n",
       "<tr>\n",
       "  <th>dummy</th>     <td>   -0.0038</td> <td>    0.003</td> <td>   -1.137</td> <td> 0.256</td> <td>   -0.010</td> <td>    0.003</td>\n",
       "</tr>\n",
       "</table>\n",
       "<table class=\"simpletable\">\n",
       "<tr>\n",
       "  <th>Omnibus:</th>       <td>93.783</td> <th>  Durbin-Watson:     </th> <td>   2.180</td> \n",
       "</tr>\n",
       "<tr>\n",
       "  <th>Prob(Omnibus):</th> <td> 0.000</td> <th>  Jarque-Bera (JB):  </th> <td> 544.861</td> \n",
       "</tr>\n",
       "<tr>\n",
       "  <th>Skew:</th>          <td> 0.660</td> <th>  Prob(JB):          </th> <td>4.84e-119</td>\n",
       "</tr>\n",
       "<tr>\n",
       "  <th>Kurtosis:</th>      <td> 7.930</td> <th>  Cond. No.          </th> <td>    2.61</td> \n",
       "</tr>\n",
       "</table><br/><br/>Notes:<br/>[1] Standard Errors assume that the covariance matrix of the errors is correctly specified."
      ],
      "text/plain": [
       "<class 'statsmodels.iolib.summary.Summary'>\n",
       "\"\"\"\n",
       "                            OLS Regression Results                            \n",
       "==============================================================================\n",
       "Dep. Variable:                  tesla   R-squared:                       0.003\n",
       "Model:                            OLS   Adj. R-squared:                  0.001\n",
       "Method:                 Least Squares   F-statistic:                     1.293\n",
       "Date:                Fri, 25 Feb 2022   Prob (F-statistic):              0.256\n",
       "Time:                        16:45:13   Log-Likelihood:                 1041.8\n",
       "No. Observations:                 502   AIC:                            -2080.\n",
       "Df Residuals:                     500   BIC:                            -2071.\n",
       "Df Model:                           1                                         \n",
       "Covariance Type:            nonrobust                                         \n",
       "==============================================================================\n",
       "                 coef    std err          t      P>|t|      [0.025      0.975]\n",
       "------------------------------------------------------------------------------\n",
       "Intercept      0.0021      0.002      1.393      0.164      -0.001       0.005\n",
       "dummy         -0.0038      0.003     -1.137      0.256      -0.010       0.003\n",
       "==============================================================================\n",
       "Omnibus:                       93.783   Durbin-Watson:                   2.180\n",
       "Prob(Omnibus):                  0.000   Jarque-Bera (JB):              544.861\n",
       "Skew:                           0.660   Prob(JB):                    4.84e-119\n",
       "Kurtosis:                       7.930   Cond. No.                         2.61\n",
       "==============================================================================\n",
       "\n",
       "Notes:\n",
       "[1] Standard Errors assume that the covariance matrix of the errors is correctly specified.\n",
       "\"\"\""
      ]
     },
     "execution_count": 84,
     "metadata": {},
     "output_type": "execute_result"
    }
   ],
   "source": [
    "ols = sm.ols(formula='tesla ~ dummy', data=ret_df).fit()\n",
    "ols.summary()"
   ]
  },
  {
   "cell_type": "markdown",
   "metadata": {},
   "source": [
    "### **`Answer:`** \n",
    "We used heteroscedasticity-consistent standard errors\n",
    "pvalue > 0.1 so we can not reject $H_0$. ie mean returns of Tesla are not significantly different on Fridays than on other days"
   ]
  },
  {
   "cell_type": "markdown",
   "metadata": {},
   "source": [
    "# Question 4"
   ]
  },
  {
   "cell_type": "code",
   "execution_count": 85,
   "metadata": {},
   "outputs": [
    {
     "data": {
      "text/html": [
       "<div>\n",
       "<style scoped>\n",
       "    .dataframe tbody tr th:only-of-type {\n",
       "        vertical-align: middle;\n",
       "    }\n",
       "\n",
       "    .dataframe tbody tr th {\n",
       "        vertical-align: top;\n",
       "    }\n",
       "\n",
       "    .dataframe thead th {\n",
       "        text-align: right;\n",
       "    }\n",
       "</style>\n",
       "<table border=\"1\" class=\"dataframe\">\n",
       "  <thead>\n",
       "    <tr style=\"text-align: right;\">\n",
       "      <th></th>\n",
       "      <th></th>\n",
       "      <th>dis_all</th>\n",
       "      <th>dis_within_group</th>\n",
       "      <th>dis_across_group</th>\n",
       "    </tr>\n",
       "    <tr>\n",
       "      <th>permno</th>\n",
       "      <th>date</th>\n",
       "      <th></th>\n",
       "      <th></th>\n",
       "      <th></th>\n",
       "    </tr>\n",
       "  </thead>\n",
       "  <tbody>\n",
       "    <tr>\n",
       "      <th rowspan=\"5\" valign=\"top\">10001</th>\n",
       "      <th>2011-01-31</th>\n",
       "      <td>0.0</td>\n",
       "      <td>0.0</td>\n",
       "      <td>0.0</td>\n",
       "    </tr>\n",
       "    <tr>\n",
       "      <th>2011-02-28</th>\n",
       "      <td>NaN</td>\n",
       "      <td>NaN</td>\n",
       "      <td>NaN</td>\n",
       "    </tr>\n",
       "    <tr>\n",
       "      <th>2011-03-31</th>\n",
       "      <td>0.0</td>\n",
       "      <td>0.0</td>\n",
       "      <td>0.0</td>\n",
       "    </tr>\n",
       "    <tr>\n",
       "      <th>2011-04-30</th>\n",
       "      <td>0.0</td>\n",
       "      <td>0.0</td>\n",
       "      <td>0.0</td>\n",
       "    </tr>\n",
       "    <tr>\n",
       "      <th>2011-05-31</th>\n",
       "      <td>0.0</td>\n",
       "      <td>0.0</td>\n",
       "      <td>0.0</td>\n",
       "    </tr>\n",
       "    <tr>\n",
       "      <th>...</th>\n",
       "      <th>...</th>\n",
       "      <td>...</td>\n",
       "      <td>...</td>\n",
       "      <td>...</td>\n",
       "    </tr>\n",
       "    <tr>\n",
       "      <th rowspan=\"5\" valign=\"top\">93431</th>\n",
       "      <th>2012-04-30</th>\n",
       "      <td>NaN</td>\n",
       "      <td>NaN</td>\n",
       "      <td>NaN</td>\n",
       "    </tr>\n",
       "    <tr>\n",
       "      <th>2012-05-31</th>\n",
       "      <td>1.0</td>\n",
       "      <td>0.0</td>\n",
       "      <td>0.0</td>\n",
       "    </tr>\n",
       "    <tr>\n",
       "      <th>2012-06-30</th>\n",
       "      <td>NaN</td>\n",
       "      <td>NaN</td>\n",
       "      <td>NaN</td>\n",
       "    </tr>\n",
       "    <tr>\n",
       "      <th>2012-07-31</th>\n",
       "      <td>0.0</td>\n",
       "      <td>0.0</td>\n",
       "      <td>0.0</td>\n",
       "    </tr>\n",
       "    <tr>\n",
       "      <th>2012-08-31</th>\n",
       "      <td>0.0</td>\n",
       "      <td>0.0</td>\n",
       "      <td>0.0</td>\n",
       "    </tr>\n",
       "  </tbody>\n",
       "</table>\n",
       "<p>532078 rows × 3 columns</p>\n",
       "</div>"
      ],
      "text/plain": [
       "                   dis_all  dis_within_group  dis_across_group\n",
       "permno date                                                   \n",
       "10001  2011-01-31      0.0               0.0               0.0\n",
       "       2011-02-28      NaN               NaN               NaN\n",
       "       2011-03-31      0.0               0.0               0.0\n",
       "       2011-04-30      0.0               0.0               0.0\n",
       "       2011-05-31      0.0               0.0               0.0\n",
       "...                    ...               ...               ...\n",
       "93431  2012-04-30      NaN               NaN               NaN\n",
       "       2012-05-31      1.0               0.0               0.0\n",
       "       2012-06-30      NaN               NaN               NaN\n",
       "       2012-07-31      0.0               0.0               0.0\n",
       "       2012-08-31      0.0               0.0               0.0\n",
       "\n",
       "[532078 rows x 3 columns]"
      ]
     },
     "execution_count": 85,
     "metadata": {},
     "output_type": "execute_result"
    }
   ],
   "source": [
    "ndis = dis.groupby('permno').resample('M').last()\n",
    "del ndis['permno']\n",
    "ndis"
   ]
  },
  {
   "cell_type": "code",
   "execution_count": 87,
   "metadata": {},
   "outputs": [
    {
     "name": "stderr",
     "output_type": "stream",
     "text": [
      "C:\\Users\\user66\\anaconda3\\envs\\hecfin\\lib\\site-packages\\pandas\\core\\arraylike.py:364: RuntimeWarning: invalid value encountered in log\n",
      "  result = getattr(ufunc, method)(*inputs, **kwargs)\n"
     ]
    }
   ],
   "source": [
    "crsp1 = crsp[['permno', 'vol']].copy()\n",
    "crsp1['log_ret'] = np.log(crsp['1+ret'])\n",
    "crsp1['log_market'] = np.log((crsp.prc * crsp.shrout))\n",
    "group = crsp1.groupby('permno').resample('M')"
   ]
  },
  {
   "cell_type": "code",
   "execution_count": 90,
   "metadata": {},
   "outputs": [
    {
     "data": {
      "text/html": [
       "<div>\n",
       "<style scoped>\n",
       "    .dataframe tbody tr th:only-of-type {\n",
       "        vertical-align: middle;\n",
       "    }\n",
       "\n",
       "    .dataframe tbody tr th {\n",
       "        vertical-align: top;\n",
       "    }\n",
       "\n",
       "    .dataframe thead th {\n",
       "        text-align: right;\n",
       "    }\n",
       "</style>\n",
       "<table border=\"1\" class=\"dataframe\">\n",
       "  <thead>\n",
       "    <tr style=\"text-align: right;\">\n",
       "      <th></th>\n",
       "      <th></th>\n",
       "      <th>volume</th>\n",
       "    </tr>\n",
       "    <tr>\n",
       "      <th>permno</th>\n",
       "      <th>date</th>\n",
       "      <th></th>\n",
       "    </tr>\n",
       "  </thead>\n",
       "  <tbody>\n",
       "    <tr>\n",
       "      <th rowspan=\"5\" valign=\"top\">10001</th>\n",
       "      <th>2017-01-31</th>\n",
       "      <td>929663.0</td>\n",
       "    </tr>\n",
       "    <tr>\n",
       "      <th>2017-02-28</th>\n",
       "      <td>397875.0</td>\n",
       "    </tr>\n",
       "    <tr>\n",
       "      <th>2017-03-31</th>\n",
       "      <td>633464.0</td>\n",
       "    </tr>\n",
       "    <tr>\n",
       "      <th>2017-04-30</th>\n",
       "      <td>390614.0</td>\n",
       "    </tr>\n",
       "    <tr>\n",
       "      <th>2017-05-31</th>\n",
       "      <td>440137.0</td>\n",
       "    </tr>\n",
       "    <tr>\n",
       "      <th>...</th>\n",
       "      <th>...</th>\n",
       "      <td>...</td>\n",
       "    </tr>\n",
       "    <tr>\n",
       "      <th rowspan=\"5\" valign=\"top\">93436</th>\n",
       "      <th>2018-08-31</th>\n",
       "      <td>277331636.0</td>\n",
       "    </tr>\n",
       "    <tr>\n",
       "      <th>2018-09-30</th>\n",
       "      <td>196076660.0</td>\n",
       "    </tr>\n",
       "    <tr>\n",
       "      <th>2018-10-31</th>\n",
       "      <td>286423133.0</td>\n",
       "    </tr>\n",
       "    <tr>\n",
       "      <th>2018-11-30</th>\n",
       "      <td>133128495.0</td>\n",
       "    </tr>\n",
       "    <tr>\n",
       "      <th>2018-12-31</th>\n",
       "      <td>146446603.0</td>\n",
       "    </tr>\n",
       "  </tbody>\n",
       "</table>\n",
       "<p>176666 rows × 1 columns</p>\n",
       "</div>"
      ],
      "text/plain": [
       "                        volume\n",
       "permno date                   \n",
       "10001  2017-01-31     929663.0\n",
       "       2017-02-28     397875.0\n",
       "       2017-03-31     633464.0\n",
       "       2017-04-30     390614.0\n",
       "       2017-05-31     440137.0\n",
       "...                        ...\n",
       "93436  2018-08-31  277331636.0\n",
       "       2018-09-30  196076660.0\n",
       "       2018-10-31  286423133.0\n",
       "       2018-11-30  133128495.0\n",
       "       2018-12-31  146446603.0\n",
       "\n",
       "[176666 rows x 1 columns]"
      ]
     },
     "execution_count": 90,
     "metadata": {},
     "output_type": "execute_result"
    }
   ],
   "source": [
    "ncrsp = group[['vol']].sum()\n",
    "ncrsp.columns = ['volume']\n",
    "ncrsp"
   ]
  },
  {
   "cell_type": "code",
   "execution_count": 91,
   "metadata": {},
   "outputs": [
    {
     "data": {
      "text/html": [
       "<div>\n",
       "<style scoped>\n",
       "    .dataframe tbody tr th:only-of-type {\n",
       "        vertical-align: middle;\n",
       "    }\n",
       "\n",
       "    .dataframe tbody tr th {\n",
       "        vertical-align: top;\n",
       "    }\n",
       "\n",
       "    .dataframe thead th {\n",
       "        text-align: right;\n",
       "    }\n",
       "</style>\n",
       "<table border=\"1\" class=\"dataframe\">\n",
       "  <thead>\n",
       "    <tr style=\"text-align: right;\">\n",
       "      <th></th>\n",
       "      <th></th>\n",
       "      <th>volume</th>\n",
       "      <th>volatility</th>\n",
       "    </tr>\n",
       "    <tr>\n",
       "      <th>permno</th>\n",
       "      <th>date</th>\n",
       "      <th></th>\n",
       "      <th></th>\n",
       "    </tr>\n",
       "  </thead>\n",
       "  <tbody>\n",
       "    <tr>\n",
       "      <th rowspan=\"5\" valign=\"top\">10001</th>\n",
       "      <th>2017-01-31</th>\n",
       "      <td>929663.0</td>\n",
       "      <td>0.000026</td>\n",
       "    </tr>\n",
       "    <tr>\n",
       "      <th>2017-02-28</th>\n",
       "      <td>397875.0</td>\n",
       "      <td>0.000017</td>\n",
       "    </tr>\n",
       "    <tr>\n",
       "      <th>2017-03-31</th>\n",
       "      <td>633464.0</td>\n",
       "      <td>0.000015</td>\n",
       "    </tr>\n",
       "    <tr>\n",
       "      <th>2017-04-30</th>\n",
       "      <td>390614.0</td>\n",
       "      <td>0.000007</td>\n",
       "    </tr>\n",
       "    <tr>\n",
       "      <th>2017-05-31</th>\n",
       "      <td>440137.0</td>\n",
       "      <td>0.000007</td>\n",
       "    </tr>\n",
       "    <tr>\n",
       "      <th>...</th>\n",
       "      <th>...</th>\n",
       "      <td>...</td>\n",
       "      <td>...</td>\n",
       "    </tr>\n",
       "    <tr>\n",
       "      <th rowspan=\"5\" valign=\"top\">93436</th>\n",
       "      <th>2018-08-31</th>\n",
       "      <td>277331636.0</td>\n",
       "      <td>0.002287</td>\n",
       "    </tr>\n",
       "    <tr>\n",
       "      <th>2018-09-30</th>\n",
       "      <td>196076660.0</td>\n",
       "      <td>0.002320</td>\n",
       "    </tr>\n",
       "    <tr>\n",
       "      <th>2018-10-31</th>\n",
       "      <td>286423133.0</td>\n",
       "      <td>0.003124</td>\n",
       "    </tr>\n",
       "    <tr>\n",
       "      <th>2018-11-30</th>\n",
       "      <td>133128495.0</td>\n",
       "      <td>0.000639</td>\n",
       "    </tr>\n",
       "    <tr>\n",
       "      <th>2018-12-31</th>\n",
       "      <td>146446603.0</td>\n",
       "      <td>0.001638</td>\n",
       "    </tr>\n",
       "  </tbody>\n",
       "</table>\n",
       "<p>176666 rows × 2 columns</p>\n",
       "</div>"
      ],
      "text/plain": [
       "                        volume  volatility\n",
       "permno date                               \n",
       "10001  2017-01-31     929663.0    0.000026\n",
       "       2017-02-28     397875.0    0.000017\n",
       "       2017-03-31     633464.0    0.000015\n",
       "       2017-04-30     390614.0    0.000007\n",
       "       2017-05-31     440137.0    0.000007\n",
       "...                        ...         ...\n",
       "93436  2018-08-31  277331636.0    0.002287\n",
       "       2018-09-30  196076660.0    0.002320\n",
       "       2018-10-31  286423133.0    0.003124\n",
       "       2018-11-30  133128495.0    0.000639\n",
       "       2018-12-31  146446603.0    0.001638\n",
       "\n",
       "[176666 rows x 2 columns]"
      ]
     },
     "execution_count": 91,
     "metadata": {},
     "output_type": "execute_result"
    }
   ],
   "source": [
    "ncrsp['volatility'] = group['log_ret'].var()\n",
    "ncrsp"
   ]
  },
  {
   "cell_type": "code",
   "execution_count": 92,
   "metadata": {},
   "outputs": [
    {
     "data": {
      "text/html": [
       "<div>\n",
       "<style scoped>\n",
       "    .dataframe tbody tr th:only-of-type {\n",
       "        vertical-align: middle;\n",
       "    }\n",
       "\n",
       "    .dataframe tbody tr th {\n",
       "        vertical-align: top;\n",
       "    }\n",
       "\n",
       "    .dataframe thead th {\n",
       "        text-align: right;\n",
       "    }\n",
       "</style>\n",
       "<table border=\"1\" class=\"dataframe\">\n",
       "  <thead>\n",
       "    <tr style=\"text-align: right;\">\n",
       "      <th></th>\n",
       "      <th></th>\n",
       "      <th>volume</th>\n",
       "      <th>volatility</th>\n",
       "      <th>market</th>\n",
       "    </tr>\n",
       "    <tr>\n",
       "      <th>permno</th>\n",
       "      <th>date</th>\n",
       "      <th></th>\n",
       "      <th></th>\n",
       "      <th></th>\n",
       "    </tr>\n",
       "  </thead>\n",
       "  <tbody>\n",
       "    <tr>\n",
       "      <th rowspan=\"5\" valign=\"top\">10001</th>\n",
       "      <th>2017-01-31</th>\n",
       "      <td>929663.0</td>\n",
       "      <td>0.000026</td>\n",
       "      <td>11.798691</td>\n",
       "    </tr>\n",
       "    <tr>\n",
       "      <th>2017-02-28</th>\n",
       "      <td>397875.0</td>\n",
       "      <td>0.000017</td>\n",
       "      <td>11.798691</td>\n",
       "    </tr>\n",
       "    <tr>\n",
       "      <th>2017-03-31</th>\n",
       "      <td>633464.0</td>\n",
       "      <td>0.000015</td>\n",
       "      <td>11.802635</td>\n",
       "    </tr>\n",
       "    <tr>\n",
       "      <th>2017-04-30</th>\n",
       "      <td>390614.0</td>\n",
       "      <td>0.000007</td>\n",
       "      <td>11.786762</td>\n",
       "    </tr>\n",
       "    <tr>\n",
       "      <th>2017-05-31</th>\n",
       "      <td>440137.0</td>\n",
       "      <td>0.000007</td>\n",
       "      <td>11.802635</td>\n",
       "    </tr>\n",
       "    <tr>\n",
       "      <th>...</th>\n",
       "      <th>...</th>\n",
       "      <td>...</td>\n",
       "      <td>...</td>\n",
       "      <td>...</td>\n",
       "    </tr>\n",
       "    <tr>\n",
       "      <th rowspan=\"5\" valign=\"top\">93436</th>\n",
       "      <th>2018-08-31</th>\n",
       "      <td>277331636.0</td>\n",
       "      <td>0.002287</td>\n",
       "      <td>17.756336</td>\n",
       "    </tr>\n",
       "    <tr>\n",
       "      <th>2018-09-30</th>\n",
       "      <td>196076660.0</td>\n",
       "      <td>0.002320</td>\n",
       "      <td>17.631655</td>\n",
       "    </tr>\n",
       "    <tr>\n",
       "      <th>2018-10-31</th>\n",
       "      <td>286423133.0</td>\n",
       "      <td>0.003124</td>\n",
       "      <td>17.874728</td>\n",
       "    </tr>\n",
       "    <tr>\n",
       "      <th>2018-11-30</th>\n",
       "      <td>133128495.0</td>\n",
       "      <td>0.000639</td>\n",
       "      <td>17.913000</td>\n",
       "    </tr>\n",
       "    <tr>\n",
       "      <th>2018-12-31</th>\n",
       "      <td>146446603.0</td>\n",
       "      <td>0.001638</td>\n",
       "      <td>17.866285</td>\n",
       "    </tr>\n",
       "  </tbody>\n",
       "</table>\n",
       "<p>176666 rows × 3 columns</p>\n",
       "</div>"
      ],
      "text/plain": [
       "                        volume  volatility     market\n",
       "permno date                                          \n",
       "10001  2017-01-31     929663.0    0.000026  11.798691\n",
       "       2017-02-28     397875.0    0.000017  11.798691\n",
       "       2017-03-31     633464.0    0.000015  11.802635\n",
       "       2017-04-30     390614.0    0.000007  11.786762\n",
       "       2017-05-31     440137.0    0.000007  11.802635\n",
       "...                        ...         ...        ...\n",
       "93436  2018-08-31  277331636.0    0.002287  17.756336\n",
       "       2018-09-30  196076660.0    0.002320  17.631655\n",
       "       2018-10-31  286423133.0    0.003124  17.874728\n",
       "       2018-11-30  133128495.0    0.000639  17.913000\n",
       "       2018-12-31  146446603.0    0.001638  17.866285\n",
       "\n",
       "[176666 rows x 3 columns]"
      ]
     },
     "execution_count": 92,
     "metadata": {},
     "output_type": "execute_result"
    }
   ],
   "source": [
    "ncrsp['market'] = group['log_market'].last()\n",
    "ncrsp"
   ]
  },
  {
   "cell_type": "code",
   "execution_count": 93,
   "metadata": {},
   "outputs": [
    {
     "data": {
      "text/html": [
       "<div>\n",
       "<style scoped>\n",
       "    .dataframe tbody tr th:only-of-type {\n",
       "        vertical-align: middle;\n",
       "    }\n",
       "\n",
       "    .dataframe tbody tr th {\n",
       "        vertical-align: top;\n",
       "    }\n",
       "\n",
       "    .dataframe thead th {\n",
       "        text-align: right;\n",
       "    }\n",
       "</style>\n",
       "<table border=\"1\" class=\"dataframe\">\n",
       "  <thead>\n",
       "    <tr style=\"text-align: right;\">\n",
       "      <th></th>\n",
       "      <th></th>\n",
       "      <th>volume</th>\n",
       "      <th>volatility</th>\n",
       "      <th>market</th>\n",
       "      <th>dis_all</th>\n",
       "      <th>dis_within_group</th>\n",
       "      <th>dis_across_group</th>\n",
       "    </tr>\n",
       "    <tr>\n",
       "      <th>permno</th>\n",
       "      <th>date</th>\n",
       "      <th></th>\n",
       "      <th></th>\n",
       "      <th></th>\n",
       "      <th></th>\n",
       "      <th></th>\n",
       "      <th></th>\n",
       "    </tr>\n",
       "  </thead>\n",
       "  <tbody>\n",
       "    <tr>\n",
       "      <th rowspan=\"5\" valign=\"top\">10001</th>\n",
       "      <th>2017-02-28</th>\n",
       "      <td>397875.0</td>\n",
       "      <td>0.000017</td>\n",
       "      <td>11.798691</td>\n",
       "      <td>0.000000</td>\n",
       "      <td>0.0</td>\n",
       "      <td>0.0</td>\n",
       "    </tr>\n",
       "    <tr>\n",
       "      <th>2017-03-31</th>\n",
       "      <td>633464.0</td>\n",
       "      <td>0.000015</td>\n",
       "      <td>11.802635</td>\n",
       "      <td>0.000000</td>\n",
       "      <td>0.0</td>\n",
       "      <td>0.0</td>\n",
       "    </tr>\n",
       "    <tr>\n",
       "      <th>2017-04-30</th>\n",
       "      <td>390614.0</td>\n",
       "      <td>0.000007</td>\n",
       "      <td>11.786762</td>\n",
       "      <td>0.000000</td>\n",
       "      <td>0.0</td>\n",
       "      <td>0.0</td>\n",
       "    </tr>\n",
       "    <tr>\n",
       "      <th>2017-05-31</th>\n",
       "      <td>440137.0</td>\n",
       "      <td>0.000007</td>\n",
       "      <td>11.802635</td>\n",
       "      <td>0.000000</td>\n",
       "      <td>0.0</td>\n",
       "      <td>0.0</td>\n",
       "    </tr>\n",
       "    <tr>\n",
       "      <th>2017-06-30</th>\n",
       "      <td>590876.0</td>\n",
       "      <td>0.000010</td>\n",
       "      <td>11.820197</td>\n",
       "      <td>0.000000</td>\n",
       "      <td>0.0</td>\n",
       "      <td>0.0</td>\n",
       "    </tr>\n",
       "    <tr>\n",
       "      <th>...</th>\n",
       "      <th>...</th>\n",
       "      <td>...</td>\n",
       "      <td>...</td>\n",
       "      <td>...</td>\n",
       "      <td>...</td>\n",
       "      <td>...</td>\n",
       "      <td>...</td>\n",
       "    </tr>\n",
       "    <tr>\n",
       "      <th rowspan=\"5\" valign=\"top\">93393</th>\n",
       "      <th>2018-08-31</th>\n",
       "      <td>4846461.0</td>\n",
       "      <td>0.000789</td>\n",
       "      <td>13.075787</td>\n",
       "      <td>0.000000</td>\n",
       "      <td>0.0</td>\n",
       "      <td>0.0</td>\n",
       "    </tr>\n",
       "    <tr>\n",
       "      <th>2018-09-30</th>\n",
       "      <td>4809854.0</td>\n",
       "      <td>0.000446</td>\n",
       "      <td>12.927003</td>\n",
       "      <td>0.000000</td>\n",
       "      <td>0.0</td>\n",
       "      <td>0.0</td>\n",
       "    </tr>\n",
       "    <tr>\n",
       "      <th>2018-10-31</th>\n",
       "      <td>7372834.0</td>\n",
       "      <td>0.001270</td>\n",
       "      <td>12.605654</td>\n",
       "      <td>1.000000</td>\n",
       "      <td>0.0</td>\n",
       "      <td>0.0</td>\n",
       "    </tr>\n",
       "    <tr>\n",
       "      <th>2018-11-30</th>\n",
       "      <td>12968428.0</td>\n",
       "      <td>0.001658</td>\n",
       "      <td>12.582883</td>\n",
       "      <td>0.745356</td>\n",
       "      <td>0.0</td>\n",
       "      <td>0.0</td>\n",
       "    </tr>\n",
       "    <tr>\n",
       "      <th>2018-12-31</th>\n",
       "      <td>7920828.0</td>\n",
       "      <td>0.002177</td>\n",
       "      <td>12.518422</td>\n",
       "      <td>0.000000</td>\n",
       "      <td>0.0</td>\n",
       "      <td>0.0</td>\n",
       "    </tr>\n",
       "  </tbody>\n",
       "</table>\n",
       "<p>81954 rows × 6 columns</p>\n",
       "</div>"
      ],
      "text/plain": [
       "                       volume  volatility     market   dis_all  \\\n",
       "permno date                                                      \n",
       "10001  2017-02-28    397875.0    0.000017  11.798691  0.000000   \n",
       "       2017-03-31    633464.0    0.000015  11.802635  0.000000   \n",
       "       2017-04-30    390614.0    0.000007  11.786762  0.000000   \n",
       "       2017-05-31    440137.0    0.000007  11.802635  0.000000   \n",
       "       2017-06-30    590876.0    0.000010  11.820197  0.000000   \n",
       "...                       ...         ...        ...       ...   \n",
       "93393  2018-08-31   4846461.0    0.000789  13.075787  0.000000   \n",
       "       2018-09-30   4809854.0    0.000446  12.927003  0.000000   \n",
       "       2018-10-31   7372834.0    0.001270  12.605654  1.000000   \n",
       "       2018-11-30  12968428.0    0.001658  12.582883  0.745356   \n",
       "       2018-12-31   7920828.0    0.002177  12.518422  0.000000   \n",
       "\n",
       "                   dis_within_group  dis_across_group  \n",
       "permno date                                            \n",
       "10001  2017-02-28               0.0               0.0  \n",
       "       2017-03-31               0.0               0.0  \n",
       "       2017-04-30               0.0               0.0  \n",
       "       2017-05-31               0.0               0.0  \n",
       "       2017-06-30               0.0               0.0  \n",
       "...                             ...               ...  \n",
       "93393  2018-08-31               0.0               0.0  \n",
       "       2018-09-30               0.0               0.0  \n",
       "       2018-10-31               0.0               0.0  \n",
       "       2018-11-30               0.0               0.0  \n",
       "       2018-12-31               0.0               0.0  \n",
       "\n",
       "[81954 rows x 6 columns]"
      ]
     },
     "execution_count": 93,
     "metadata": {},
     "output_type": "execute_result"
    }
   ],
   "source": [
    "merg_df = pd.merge(ncrsp,ndis, left_index=True, right_index=True)\n",
    "merg_df = merg_df.dropna()\n",
    "merg_df"
   ]
  },
  {
   "cell_type": "markdown",
   "metadata": {},
   "source": [
    "1. Use OLS regressions to test if disagreement predicts volatility or trade volume, controlling for log market cap. Discuss your results."
   ]
  },
  {
   "cell_type": "markdown",
   "metadata": {},
   "source": [
    "$volatility$ = $\\alpha + \\beta_{1} \\times dis_{all}+ \\beta_{2} \\times market$ + $\\epsilon$ "
   ]
  },
  {
   "cell_type": "code",
   "execution_count": 94,
   "metadata": {},
   "outputs": [
    {
     "data": {
      "text/html": [
       "<table class=\"simpletable\">\n",
       "<caption>OLS Regression Results</caption>\n",
       "<tr>\n",
       "  <th>Dep. Variable:</th>       <td>volatility</td>    <th>  R-squared:         </th>  <td>   0.020</td> \n",
       "</tr>\n",
       "<tr>\n",
       "  <th>Model:</th>                   <td>OLS</td>       <th>  Adj. R-squared:    </th>  <td>   0.020</td> \n",
       "</tr>\n",
       "<tr>\n",
       "  <th>Method:</th>             <td>Least Squares</td>  <th>  F-statistic:       </th>  <td>   256.9</td> \n",
       "</tr>\n",
       "<tr>\n",
       "  <th>Date:</th>             <td>Fri, 25 Feb 2022</td> <th>  Prob (F-statistic):</th>  <td>6.06e-112</td>\n",
       "</tr>\n",
       "<tr>\n",
       "  <th>Time:</th>                 <td>16:55:07</td>     <th>  Log-Likelihood:    </th> <td>3.2223e+05</td>\n",
       "</tr>\n",
       "<tr>\n",
       "  <th>No. Observations:</th>      <td> 81954</td>      <th>  AIC:               </th> <td>-6.445e+05</td>\n",
       "</tr>\n",
       "<tr>\n",
       "  <th>Df Residuals:</th>          <td> 81951</td>      <th>  BIC:               </th> <td>-6.444e+05</td>\n",
       "</tr>\n",
       "<tr>\n",
       "  <th>Df Model:</th>              <td>     2</td>      <th>                     </th>      <td> </td>    \n",
       "</tr>\n",
       "<tr>\n",
       "  <th>Covariance Type:</th>         <td>HC1</td>       <th>                     </th>      <td> </td>    \n",
       "</tr>\n",
       "</table>\n",
       "<table class=\"simpletable\">\n",
       "<tr>\n",
       "      <td></td>         <th>coef</th>     <th>std err</th>      <th>t</th>      <th>P>|t|</th>  <th>[0.025</th>    <th>0.975]</th>  \n",
       "</tr>\n",
       "<tr>\n",
       "  <th>Intercept</th> <td>    0.0048</td> <td>    0.000</td> <td>   24.720</td> <td> 0.000</td> <td>    0.004</td> <td>    0.005</td>\n",
       "</tr>\n",
       "<tr>\n",
       "  <th>dis_all</th>   <td>    0.0006</td> <td> 6.33e-05</td> <td>    9.764</td> <td> 0.000</td> <td>    0.000</td> <td>    0.001</td>\n",
       "</tr>\n",
       "<tr>\n",
       "  <th>market</th>    <td>   -0.0003</td> <td> 1.34e-05</td> <td>  -22.665</td> <td> 0.000</td> <td>   -0.000</td> <td>   -0.000</td>\n",
       "</tr>\n",
       "</table>\n",
       "<table class=\"simpletable\">\n",
       "<tr>\n",
       "  <th>Omnibus:</th>       <td>287427.741</td> <th>  Durbin-Watson:     </th>     <td>   1.775</td>    \n",
       "</tr>\n",
       "<tr>\n",
       "  <th>Prob(Omnibus):</th>   <td> 0.000</td>   <th>  Jarque-Bera (JB):  </th> <td>174921242719.590</td>\n",
       "</tr>\n",
       "<tr>\n",
       "  <th>Skew:</th>            <td>68.314</td>   <th>  Prob(JB):          </th>     <td>    0.00</td>    \n",
       "</tr>\n",
       "<tr>\n",
       "  <th>Kurtosis:</th>       <td>7158.874</td>  <th>  Cond. No.          </th>     <td>    90.9</td>    \n",
       "</tr>\n",
       "</table><br/><br/>Notes:<br/>[1] Standard Errors are heteroscedasticity robust (HC1)"
      ],
      "text/plain": [
       "<class 'statsmodels.iolib.summary.Summary'>\n",
       "\"\"\"\n",
       "                            OLS Regression Results                            \n",
       "==============================================================================\n",
       "Dep. Variable:             volatility   R-squared:                       0.020\n",
       "Model:                            OLS   Adj. R-squared:                  0.020\n",
       "Method:                 Least Squares   F-statistic:                     256.9\n",
       "Date:                Fri, 25 Feb 2022   Prob (F-statistic):          6.06e-112\n",
       "Time:                        16:55:07   Log-Likelihood:             3.2223e+05\n",
       "No. Observations:               81954   AIC:                        -6.445e+05\n",
       "Df Residuals:                   81951   BIC:                        -6.444e+05\n",
       "Df Model:                           2                                         \n",
       "Covariance Type:                  HC1                                         \n",
       "==============================================================================\n",
       "                 coef    std err          t      P>|t|      [0.025      0.975]\n",
       "------------------------------------------------------------------------------\n",
       "Intercept      0.0048      0.000     24.720      0.000       0.004       0.005\n",
       "dis_all        0.0006   6.33e-05      9.764      0.000       0.000       0.001\n",
       "market        -0.0003   1.34e-05    -22.665      0.000      -0.000      -0.000\n",
       "==============================================================================\n",
       "Omnibus:                   287427.741   Durbin-Watson:                   1.775\n",
       "Prob(Omnibus):                  0.000   Jarque-Bera (JB):     174921242719.590\n",
       "Skew:                          68.314   Prob(JB):                         0.00\n",
       "Kurtosis:                    7158.874   Cond. No.                         90.9\n",
       "==============================================================================\n",
       "\n",
       "Notes:\n",
       "[1] Standard Errors are heteroscedasticity robust (HC1)\n",
       "\"\"\""
      ]
     },
     "execution_count": 94,
     "metadata": {},
     "output_type": "execute_result"
    }
   ],
   "source": [
    "ols1 = sm.ols(formula='volatility ~ dis_all + market', data=merg_df).fit(cov_type='HC1',use_t=True)\n",
    "ols1.summary()"
   ]
  },
  {
   "cell_type": "markdown",
   "metadata": {},
   "source": [
    "### **`Answer:`**\n",
    "Although the p-value of coeeficients are very low and means that the estimation is significant, but the $R^2$ is very low so it means that disagreement can not predict volatility very well.\\\n",
    "Since there are many firms in data set, so the variance of errors are different for each firm, so we used heteroscedasticity robust (HC1) in the estimation"
   ]
  },
  {
   "cell_type": "markdown",
   "metadata": {},
   "source": [
    "$volume$ = $\\alpha + \\beta_{1} \\times dis_{all}+ \\beta_{2} \\times market$ + $\\epsilon$ "
   ]
  },
  {
   "cell_type": "code",
   "execution_count": 95,
   "metadata": {},
   "outputs": [
    {
     "data": {
      "text/html": [
       "<table class=\"simpletable\">\n",
       "<caption>OLS Regression Results</caption>\n",
       "<tr>\n",
       "  <th>Dep. Variable:</th>         <td>volume</td>      <th>  R-squared:         </th>  <td>   0.122</td>  \n",
       "</tr>\n",
       "<tr>\n",
       "  <th>Model:</th>                   <td>OLS</td>       <th>  Adj. R-squared:    </th>  <td>   0.122</td>  \n",
       "</tr>\n",
       "<tr>\n",
       "  <th>Method:</th>             <td>Least Squares</td>  <th>  F-statistic:       </th>  <td>   1618.</td>  \n",
       "</tr>\n",
       "<tr>\n",
       "  <th>Date:</th>             <td>Fri, 25 Feb 2022</td> <th>  Prob (F-statistic):</th>   <td>  0.00</td>   \n",
       "</tr>\n",
       "<tr>\n",
       "  <th>Time:</th>                 <td>16:55:08</td>     <th>  Log-Likelihood:    </th> <td>-1.6154e+06</td>\n",
       "</tr>\n",
       "<tr>\n",
       "  <th>No. Observations:</th>      <td> 81954</td>      <th>  AIC:               </th>  <td>3.231e+06</td> \n",
       "</tr>\n",
       "<tr>\n",
       "  <th>Df Residuals:</th>          <td> 81951</td>      <th>  BIC:               </th>  <td>3.231e+06</td> \n",
       "</tr>\n",
       "<tr>\n",
       "  <th>Df Model:</th>              <td>     2</td>      <th>                     </th>      <td> </td>     \n",
       "</tr>\n",
       "<tr>\n",
       "  <th>Covariance Type:</th>         <td>HC1</td>       <th>                     </th>      <td> </td>     \n",
       "</tr>\n",
       "</table>\n",
       "<table class=\"simpletable\">\n",
       "<tr>\n",
       "      <td></td>         <th>coef</th>     <th>std err</th>      <th>t</th>      <th>P>|t|</th>  <th>[0.025</th>    <th>0.975]</th>  \n",
       "</tr>\n",
       "<tr>\n",
       "  <th>Intercept</th> <td>-1.662e+08</td> <td> 3.26e+06</td> <td>  -51.044</td> <td> 0.000</td> <td>-1.73e+08</td> <td> -1.6e+08</td>\n",
       "</tr>\n",
       "<tr>\n",
       "  <th>dis_all</th>   <td> 3.032e+07</td> <td> 1.26e+06</td> <td>   24.033</td> <td> 0.000</td> <td> 2.78e+07</td> <td> 3.28e+07</td>\n",
       "</tr>\n",
       "<tr>\n",
       "  <th>market</th>    <td> 1.371e+07</td> <td> 2.44e+05</td> <td>   56.189</td> <td> 0.000</td> <td> 1.32e+07</td> <td> 1.42e+07</td>\n",
       "</tr>\n",
       "</table>\n",
       "<table class=\"simpletable\">\n",
       "<tr>\n",
       "  <th>Omnibus:</th>       <td>148968.492</td> <th>  Durbin-Watson:     </th>   <td>   0.276</td>   \n",
       "</tr>\n",
       "<tr>\n",
       "  <th>Prob(Omnibus):</th>   <td> 0.000</td>   <th>  Jarque-Bera (JB):  </th> <td>288191390.432</td>\n",
       "</tr>\n",
       "<tr>\n",
       "  <th>Skew:</th>            <td>13.370</td>   <th>  Prob(JB):          </th>   <td>    0.00</td>   \n",
       "</tr>\n",
       "<tr>\n",
       "  <th>Kurtosis:</th>        <td>292.277</td>  <th>  Cond. No.          </th>   <td>    90.9</td>   \n",
       "</tr>\n",
       "</table><br/><br/>Notes:<br/>[1] Standard Errors are heteroscedasticity robust (HC1)"
      ],
      "text/plain": [
       "<class 'statsmodels.iolib.summary.Summary'>\n",
       "\"\"\"\n",
       "                            OLS Regression Results                            \n",
       "==============================================================================\n",
       "Dep. Variable:                 volume   R-squared:                       0.122\n",
       "Model:                            OLS   Adj. R-squared:                  0.122\n",
       "Method:                 Least Squares   F-statistic:                     1618.\n",
       "Date:                Fri, 25 Feb 2022   Prob (F-statistic):               0.00\n",
       "Time:                        16:55:08   Log-Likelihood:            -1.6154e+06\n",
       "No. Observations:               81954   AIC:                         3.231e+06\n",
       "Df Residuals:                   81951   BIC:                         3.231e+06\n",
       "Df Model:                           2                                         \n",
       "Covariance Type:                  HC1                                         \n",
       "==============================================================================\n",
       "                 coef    std err          t      P>|t|      [0.025      0.975]\n",
       "------------------------------------------------------------------------------\n",
       "Intercept  -1.662e+08   3.26e+06    -51.044      0.000   -1.73e+08    -1.6e+08\n",
       "dis_all     3.032e+07   1.26e+06     24.033      0.000    2.78e+07    3.28e+07\n",
       "market      1.371e+07   2.44e+05     56.189      0.000    1.32e+07    1.42e+07\n",
       "==============================================================================\n",
       "Omnibus:                   148968.492   Durbin-Watson:                   0.276\n",
       "Prob(Omnibus):                  0.000   Jarque-Bera (JB):        288191390.432\n",
       "Skew:                          13.370   Prob(JB):                         0.00\n",
       "Kurtosis:                     292.277   Cond. No.                         90.9\n",
       "==============================================================================\n",
       "\n",
       "Notes:\n",
       "[1] Standard Errors are heteroscedasticity robust (HC1)\n",
       "\"\"\""
      ]
     },
     "execution_count": 95,
     "metadata": {},
     "output_type": "execute_result"
    }
   ],
   "source": [
    "ols2 = sm.ols(formula='volume ~ dis_all + market', data=merg_df).fit(cov_type='HC1',use_t=True)\n",
    "ols2.summary()"
   ]
  },
  {
   "cell_type": "markdown",
   "metadata": {},
   "source": [
    "### **`Answer:`**\n",
    "Again although the p-value of coeeficients are very low and means that the estimation is significant, but the $R^2$ is very low so it means that disagreement can not predict volume very well.\\\n",
    "Since there are many firms in data set, so the variance of errors are different for each firm, so we used heteroscedasticity robust (HC1) in the estimation"
   ]
  },
  {
   "cell_type": "markdown",
   "metadata": {},
   "source": [
    "2. Use panel regressions to test if disagreement predicts volatility, controlling for log market cap, and stock fixes effects, date fixed effects, and both FE at the same time. Discuss your results. Make sure to explain what role your fixed effects may take in the regression."
   ]
  },
  {
   "cell_type": "markdown",
   "metadata": {},
   "source": [
    "$volatility$ = $\\alpha + \\beta_{1} \\times dis_{all}+ \\beta_{2} \\times market + EntityEffects$ + $\\epsilon$ "
   ]
  },
  {
   "cell_type": "code",
   "execution_count": 96,
   "metadata": {},
   "outputs": [
    {
     "data": {
      "text/html": [
       "<table class=\"simpletable\">\n",
       "<caption>PanelOLS Estimation Summary</caption>\n",
       "<tr>\n",
       "  <th>Dep. Variable:</th>       <td>volatility</td>    <th>  R-squared:         </th>     <td>0.0080</td>  \n",
       "</tr>\n",
       "<tr>\n",
       "  <th>Estimator:</th>            <td>PanelOLS</td>     <th>  R-squared (Between):</th>    <td>-53.413</td> \n",
       "</tr>\n",
       "<tr>\n",
       "  <th>No. Observations:</th>       <td>81954</td>      <th>  R-squared (Within):</th>     <td>0.0080</td>  \n",
       "</tr>\n",
       "<tr>\n",
       "  <th>Date:</th>             <td>Fri, Feb 25 2022</td> <th>  R-squared (Overall):</th>    <td>-20.510</td> \n",
       "</tr>\n",
       "<tr>\n",
       "  <th>Time:</th>                 <td>16:55:08</td>     <th>  Log-likelihood     </th>    <td>3.304e+05</td>\n",
       "</tr>\n",
       "<tr>\n",
       "  <th>Cov. Estimator:</th>       <td>Clustered</td>    <th>                     </th>        <td></td>     \n",
       "</tr>\n",
       "<tr>\n",
       "  <th></th>                          <td></td>         <th>  F-statistic:       </th>     <td>314.72</td>  \n",
       "</tr>\n",
       "<tr>\n",
       "  <th>Entities:</th>               <td>4158</td>       <th>  P-value            </th>     <td>0.0000</td>  \n",
       "</tr>\n",
       "<tr>\n",
       "  <th>Avg Obs:</th>               <td>19.710</td>      <th>  Distribution:      </th>   <td>F(2,77798)</td>\n",
       "</tr>\n",
       "<tr>\n",
       "  <th>Min Obs:</th>               <td>0.0000</td>      <th>                     </th>        <td></td>     \n",
       "</tr>\n",
       "<tr>\n",
       "  <th>Max Obs:</th>               <td>24.000</td>      <th>  F-statistic (robust):</th>   <td>24.719</td>  \n",
       "</tr>\n",
       "<tr>\n",
       "  <th></th>                          <td></td>         <th>  P-value            </th>     <td>0.0000</td>  \n",
       "</tr>\n",
       "<tr>\n",
       "  <th>Time periods:</th>            <td>24</td>        <th>  Distribution:      </th>   <td>F(2,77798)</td>\n",
       "</tr>\n",
       "<tr>\n",
       "  <th>Avg Obs:</th>               <td>3414.8</td>      <th>                     </th>        <td></td>     \n",
       "</tr>\n",
       "<tr>\n",
       "  <th>Min Obs:</th>               <td>3144.0</td>      <th>                     </th>        <td></td>     \n",
       "</tr>\n",
       "<tr>\n",
       "  <th>Max Obs:</th>               <td>3755.0</td>      <th>                     </th>        <td></td>     \n",
       "</tr>\n",
       "<tr>\n",
       "  <th></th>                          <td></td>         <th>                     </th>        <td></td>     \n",
       "</tr>\n",
       "</table>\n",
       "<table class=\"simpletable\">\n",
       "<caption>Parameter Estimates</caption>\n",
       "<tr>\n",
       "     <td></td>     <th>Parameter</th> <th>Std. Err.</th> <th>T-stat</th>  <th>P-value</th> <th>Lower CI</th> <th>Upper CI</th>\n",
       "</tr>\n",
       "<tr>\n",
       "  <th>dis_all</th>  <td>0.0003</td>   <td>6.344e-05</td> <td>5.2625</td>  <td>0.0000</td>   <td>0.0002</td>   <td>0.0005</td> \n",
       "</tr>\n",
       "<tr>\n",
       "  <th>market</th>   <td>-0.0015</td>   <td>0.0003</td>   <td>-4.5955</td> <td>0.0000</td>   <td>-0.0022</td>  <td>-0.0009</td>\n",
       "</tr>\n",
       "</table><br/><br/>F-test for Poolability: 4.1488<br/>P-value: 0.0000<br/>Distribution: F(4153,77798)<br/><br/>Included effects: Entity"
      ],
      "text/plain": [
       "<class 'linearmodels.compat.statsmodels.Summary'>\n",
       "\"\"\"\n",
       "                          PanelOLS Estimation Summary                           \n",
       "================================================================================\n",
       "Dep. Variable:             volatility   R-squared:                        0.0080\n",
       "Estimator:                   PanelOLS   R-squared (Between):             -53.413\n",
       "No. Observations:               81954   R-squared (Within):               0.0080\n",
       "Date:                Fri, Feb 25 2022   R-squared (Overall):             -20.510\n",
       "Time:                        16:55:08   Log-likelihood                 3.304e+05\n",
       "Cov. Estimator:             Clustered                                           \n",
       "                                        F-statistic:                      314.72\n",
       "Entities:                        4158   P-value                           0.0000\n",
       "Avg Obs:                       19.710   Distribution:                 F(2,77798)\n",
       "Min Obs:                       0.0000                                           \n",
       "Max Obs:                       24.000   F-statistic (robust):             24.719\n",
       "                                        P-value                           0.0000\n",
       "Time periods:                      24   Distribution:                 F(2,77798)\n",
       "Avg Obs:                       3414.8                                           \n",
       "Min Obs:                       3144.0                                           \n",
       "Max Obs:                       3755.0                                           \n",
       "                                                                                \n",
       "                             Parameter Estimates                              \n",
       "==============================================================================\n",
       "            Parameter  Std. Err.     T-stat    P-value    Lower CI    Upper CI\n",
       "------------------------------------------------------------------------------\n",
       "dis_all        0.0003  6.344e-05     5.2625     0.0000      0.0002      0.0005\n",
       "market        -0.0015     0.0003    -4.5955     0.0000     -0.0022     -0.0009\n",
       "==============================================================================\n",
       "\n",
       "F-test for Poolability: 4.1488\n",
       "P-value: 0.0000\n",
       "Distribution: F(4153,77798)\n",
       "\n",
       "Included effects: Entity\n",
       "\"\"\""
      ]
     },
     "execution_count": 96,
     "metadata": {},
     "output_type": "execute_result"
    }
   ],
   "source": [
    "panel1 = PanelOLS.from_formula('volatility ~ dis_all + market + EntityEffects',data=merg_df).fit(\n",
    "    cov_type='clustered', cluster_entity=True)\n",
    "panel1.summary"
   ]
  },
  {
   "cell_type": "markdown",
   "metadata": {},
   "source": [
    "### **`Answer:`**\n",
    "Firm fixed effects capture all variables that effect the volatility and are fixed for each firm.\n",
    "\n",
    "Again although the p-value of coeeficients are very low and means that the estimation is significant, but the $R^2$ is very low so it means that disagreement can not predict volatility very well.\\\n",
    "Since there are many firms in data set, so the variance of errors are different for each firm, so we used heteroscedasticity robust (HC1) in the estimation"
   ]
  },
  {
   "cell_type": "markdown",
   "metadata": {},
   "source": [
    "$volatility$ = $\\alpha + \\beta_{1} \\times dis_{all}+ \\beta_{2} \\times market + TimeEffects$ + $\\epsilon$ "
   ]
  },
  {
   "cell_type": "code",
   "execution_count": 97,
   "metadata": {},
   "outputs": [
    {
     "data": {
      "text/html": [
       "<table class=\"simpletable\">\n",
       "<caption>PanelOLS Estimation Summary</caption>\n",
       "<tr>\n",
       "  <th>Dep. Variable:</th>       <td>volatility</td>    <th>  R-squared:         </th>     <td>0.0196</td>  \n",
       "</tr>\n",
       "<tr>\n",
       "  <th>Estimator:</th>            <td>PanelOLS</td>     <th>  R-squared (Between):</th>    <td>-2.5180</td> \n",
       "</tr>\n",
       "<tr>\n",
       "  <th>No. Observations:</th>       <td>81954</td>      <th>  R-squared (Within):</th>     <td>0.0028</td>  \n",
       "</tr>\n",
       "<tr>\n",
       "  <th>Date:</th>             <td>Fri, Feb 25 2022</td> <th>  R-squared (Overall):</th>    <td>-0.9482</td> \n",
       "</tr>\n",
       "<tr>\n",
       "  <th>Time:</th>                 <td>16:55:09</td>     <th>  Log-likelihood     </th>    <td>3.223e+05</td>\n",
       "</tr>\n",
       "<tr>\n",
       "  <th>Cov. Estimator:</th>       <td>Clustered</td>    <th>                     </th>        <td></td>     \n",
       "</tr>\n",
       "<tr>\n",
       "  <th></th>                          <td></td>         <th>  F-statistic:       </th>     <td>819.83</td>  \n",
       "</tr>\n",
       "<tr>\n",
       "  <th>Entities:</th>               <td>4158</td>       <th>  P-value            </th>     <td>0.0000</td>  \n",
       "</tr>\n",
       "<tr>\n",
       "  <th>Avg Obs:</th>               <td>19.710</td>      <th>  Distribution:      </th>   <td>F(2,81928)</td>\n",
       "</tr>\n",
       "<tr>\n",
       "  <th>Min Obs:</th>               <td>0.0000</td>      <th>                     </th>        <td></td>     \n",
       "</tr>\n",
       "<tr>\n",
       "  <th>Max Obs:</th>               <td>24.000</td>      <th>  F-statistic (robust):</th>   <td>215.43</td>  \n",
       "</tr>\n",
       "<tr>\n",
       "  <th></th>                          <td></td>         <th>  P-value            </th>     <td>0.0000</td>  \n",
       "</tr>\n",
       "<tr>\n",
       "  <th>Time periods:</th>            <td>24</td>        <th>  Distribution:      </th>   <td>F(2,81928)</td>\n",
       "</tr>\n",
       "<tr>\n",
       "  <th>Avg Obs:</th>               <td>3414.8</td>      <th>                     </th>        <td></td>     \n",
       "</tr>\n",
       "<tr>\n",
       "  <th>Min Obs:</th>               <td>3144.0</td>      <th>                     </th>        <td></td>     \n",
       "</tr>\n",
       "<tr>\n",
       "  <th>Max Obs:</th>               <td>3755.0</td>      <th>                     </th>        <td></td>     \n",
       "</tr>\n",
       "<tr>\n",
       "  <th></th>                          <td></td>         <th>                     </th>        <td></td>     \n",
       "</tr>\n",
       "</table>\n",
       "<table class=\"simpletable\">\n",
       "<caption>Parameter Estimates</caption>\n",
       "<tr>\n",
       "     <td></td>     <th>Parameter</th> <th>Std. Err.</th> <th>T-stat</th>  <th>P-value</th> <th>Lower CI</th> <th>Upper CI</th>\n",
       "</tr>\n",
       "<tr>\n",
       "  <th>dis_all</th>  <td>0.0006</td>   <td>6.545e-05</td> <td>9.2289</td>  <td>0.0000</td>   <td>0.0005</td>   <td>0.0007</td> \n",
       "</tr>\n",
       "<tr>\n",
       "  <th>market</th>   <td>-0.0003</td>  <td>1.462e-05</td> <td>-20.756</td> <td>0.0000</td>   <td>-0.0003</td>  <td>-0.0003</td>\n",
       "</tr>\n",
       "</table><br/><br/>F-test for Poolability: 3.4494<br/>P-value: 0.0000<br/>Distribution: F(23,81928)<br/><br/>Included effects: Time"
      ],
      "text/plain": [
       "<class 'linearmodels.compat.statsmodels.Summary'>\n",
       "\"\"\"\n",
       "                          PanelOLS Estimation Summary                           \n",
       "================================================================================\n",
       "Dep. Variable:             volatility   R-squared:                        0.0196\n",
       "Estimator:                   PanelOLS   R-squared (Between):             -2.5180\n",
       "No. Observations:               81954   R-squared (Within):               0.0028\n",
       "Date:                Fri, Feb 25 2022   R-squared (Overall):             -0.9482\n",
       "Time:                        16:55:09   Log-likelihood                 3.223e+05\n",
       "Cov. Estimator:             Clustered                                           \n",
       "                                        F-statistic:                      819.83\n",
       "Entities:                        4158   P-value                           0.0000\n",
       "Avg Obs:                       19.710   Distribution:                 F(2,81928)\n",
       "Min Obs:                       0.0000                                           \n",
       "Max Obs:                       24.000   F-statistic (robust):             215.43\n",
       "                                        P-value                           0.0000\n",
       "Time periods:                      24   Distribution:                 F(2,81928)\n",
       "Avg Obs:                       3414.8                                           \n",
       "Min Obs:                       3144.0                                           \n",
       "Max Obs:                       3755.0                                           \n",
       "                                                                                \n",
       "                             Parameter Estimates                              \n",
       "==============================================================================\n",
       "            Parameter  Std. Err.     T-stat    P-value    Lower CI    Upper CI\n",
       "------------------------------------------------------------------------------\n",
       "dis_all        0.0006  6.545e-05     9.2289     0.0000      0.0005      0.0007\n",
       "market        -0.0003  1.462e-05    -20.756     0.0000     -0.0003     -0.0003\n",
       "==============================================================================\n",
       "\n",
       "F-test for Poolability: 3.4494\n",
       "P-value: 0.0000\n",
       "Distribution: F(23,81928)\n",
       "\n",
       "Included effects: Time\n",
       "\"\"\""
      ]
     },
     "execution_count": 97,
     "metadata": {},
     "output_type": "execute_result"
    }
   ],
   "source": [
    "panel2 = PanelOLS.from_formula('volatility ~ dis_all + market + TimeEffects',data=merg_df).fit(\n",
    "    cov_type='clustered', cluster_time=True)\n",
    "panel2.summary"
   ]
  },
  {
   "cell_type": "markdown",
   "metadata": {},
   "source": [
    "### **`Answer:`**\n",
    "Time fixed effects capture all variables that effect the volatility and are fixed for each year.\n",
    "\n",
    "Again although the p-value of coeeficients are very low and means that the estimation is significant, but the $R^2$ is very low so it means that disagreement can not predict volatility very well.\\\n",
    "Since there are many firms in data set, so the variance of errors are different for each firm, so we used heteroscedasticity robust (HC1) in the estimation"
   ]
  },
  {
   "cell_type": "markdown",
   "metadata": {},
   "source": [
    "$volatility$ = $\\alpha + \\beta_{1} \\times dis_{all}+ \\beta_{2} \\times market + EntityEffects + TimeEffects$ + $\\epsilon$ "
   ]
  },
  {
   "cell_type": "code",
   "execution_count": 98,
   "metadata": {},
   "outputs": [
    {
     "data": {
      "text/html": [
       "<table class=\"simpletable\">\n",
       "<caption>PanelOLS Estimation Summary</caption>\n",
       "<tr>\n",
       "  <th>Dep. Variable:</th>       <td>volatility</td>    <th>  R-squared:         </th>     <td>0.0079</td>  \n",
       "</tr>\n",
       "<tr>\n",
       "  <th>Estimator:</th>            <td>PanelOLS</td>     <th>  R-squared (Between):</th>    <td>-55.948</td> \n",
       "</tr>\n",
       "<tr>\n",
       "  <th>No. Observations:</th>       <td>81954</td>      <th>  R-squared (Within):</th>     <td>0.0080</td>  \n",
       "</tr>\n",
       "<tr>\n",
       "  <th>Date:</th>             <td>Fri, Feb 25 2022</td> <th>  R-squared (Overall):</th>    <td>-21.487</td> \n",
       "</tr>\n",
       "<tr>\n",
       "  <th>Time:</th>                 <td>16:55:11</td>     <th>  Log-likelihood     </th>    <td>3.305e+05</td>\n",
       "</tr>\n",
       "<tr>\n",
       "  <th>Cov. Estimator:</th>       <td>Clustered</td>    <th>                     </th>        <td></td>     \n",
       "</tr>\n",
       "<tr>\n",
       "  <th></th>                          <td></td>         <th>  F-statistic:       </th>     <td>311.29</td>  \n",
       "</tr>\n",
       "<tr>\n",
       "  <th>Entities:</th>               <td>4158</td>       <th>  P-value            </th>     <td>0.0000</td>  \n",
       "</tr>\n",
       "<tr>\n",
       "  <th>Avg Obs:</th>               <td>19.710</td>      <th>  Distribution:      </th>   <td>F(2,77775)</td>\n",
       "</tr>\n",
       "<tr>\n",
       "  <th>Min Obs:</th>               <td>0.0000</td>      <th>                     </th>        <td></td>     \n",
       "</tr>\n",
       "<tr>\n",
       "  <th>Max Obs:</th>               <td>24.000</td>      <th>  F-statistic (robust):</th>   <td>19.844</td>  \n",
       "</tr>\n",
       "<tr>\n",
       "  <th></th>                          <td></td>         <th>  P-value            </th>     <td>0.0000</td>  \n",
       "</tr>\n",
       "<tr>\n",
       "  <th>Time periods:</th>            <td>24</td>        <th>  Distribution:      </th>   <td>F(2,77775)</td>\n",
       "</tr>\n",
       "<tr>\n",
       "  <th>Avg Obs:</th>               <td>3414.8</td>      <th>                     </th>        <td></td>     \n",
       "</tr>\n",
       "<tr>\n",
       "  <th>Min Obs:</th>               <td>3144.0</td>      <th>                     </th>        <td></td>     \n",
       "</tr>\n",
       "<tr>\n",
       "  <th>Max Obs:</th>               <td>3755.0</td>      <th>                     </th>        <td></td>     \n",
       "</tr>\n",
       "<tr>\n",
       "  <th></th>                          <td></td>         <th>                     </th>        <td></td>     \n",
       "</tr>\n",
       "</table>\n",
       "<table class=\"simpletable\">\n",
       "<caption>Parameter Estimates</caption>\n",
       "<tr>\n",
       "     <td></td>     <th>Parameter</th> <th>Std. Err.</th> <th>T-stat</th>  <th>P-value</th> <th>Lower CI</th> <th>Upper CI</th>\n",
       "</tr>\n",
       "<tr>\n",
       "  <th>dis_all</th>  <td>0.0003</td>   <td>6.272e-05</td> <td>4.7516</td>  <td>0.0000</td>   <td>0.0002</td>   <td>0.0004</td> \n",
       "</tr>\n",
       "<tr>\n",
       "  <th>market</th>   <td>-0.0016</td>   <td>0.0004</td>   <td>-4.3579</td> <td>0.0000</td>   <td>-0.0023</td>  <td>-0.0009</td>\n",
       "</tr>\n",
       "</table><br/><br/>F-test for Poolability: 4.1648<br/>P-value: 0.0000<br/>Distribution: F(4176,77775)<br/><br/>Included effects: Entity, Time"
      ],
      "text/plain": [
       "<class 'linearmodels.compat.statsmodels.Summary'>\n",
       "\"\"\"\n",
       "                          PanelOLS Estimation Summary                           \n",
       "================================================================================\n",
       "Dep. Variable:             volatility   R-squared:                        0.0079\n",
       "Estimator:                   PanelOLS   R-squared (Between):             -55.948\n",
       "No. Observations:               81954   R-squared (Within):               0.0080\n",
       "Date:                Fri, Feb 25 2022   R-squared (Overall):             -21.487\n",
       "Time:                        16:55:11   Log-likelihood                 3.305e+05\n",
       "Cov. Estimator:             Clustered                                           \n",
       "                                        F-statistic:                      311.29\n",
       "Entities:                        4158   P-value                           0.0000\n",
       "Avg Obs:                       19.710   Distribution:                 F(2,77775)\n",
       "Min Obs:                       0.0000                                           \n",
       "Max Obs:                       24.000   F-statistic (robust):             19.844\n",
       "                                        P-value                           0.0000\n",
       "Time periods:                      24   Distribution:                 F(2,77775)\n",
       "Avg Obs:                       3414.8                                           \n",
       "Min Obs:                       3144.0                                           \n",
       "Max Obs:                       3755.0                                           \n",
       "                                                                                \n",
       "                             Parameter Estimates                              \n",
       "==============================================================================\n",
       "            Parameter  Std. Err.     T-stat    P-value    Lower CI    Upper CI\n",
       "------------------------------------------------------------------------------\n",
       "dis_all        0.0003  6.272e-05     4.7516     0.0000      0.0002      0.0004\n",
       "market        -0.0016     0.0004    -4.3579     0.0000     -0.0023     -0.0009\n",
       "==============================================================================\n",
       "\n",
       "F-test for Poolability: 4.1648\n",
       "P-value: 0.0000\n",
       "Distribution: F(4176,77775)\n",
       "\n",
       "Included effects: Entity, Time\n",
       "\"\"\""
      ]
     },
     "execution_count": 98,
     "metadata": {},
     "output_type": "execute_result"
    }
   ],
   "source": [
    "panel3 = PanelOLS.from_formula('volatility ~ dis_all + market + EntityEffects + TimeEffects',data=merg_df).fit(\n",
    "    cov_type='clustered', cluster_entity=True, cluster_time=True)\n",
    "panel3.summary"
   ]
  },
  {
   "cell_type": "markdown",
   "metadata": {},
   "source": [
    "### **`Answer:`**\n",
    "Firm fixed effects capture all variables that effect the volatility and are fixed for each firms and time fixed effects capture all variables that effect the volatility and are fixed for each year.\n",
    "\n",
    "\n",
    "Again although the p-value of coeeficients are very low and means that the estimation is significant, but the $R^2$ is very low so it means that disagreement can not predict volatility very well.\\\n",
    "Since there are many firms in data set, so the variance of errors are different for each firm, so we used heteroscedasticity robust (HC1) in the estimation"
   ]
  },
  {
   "cell_type": "markdown",
   "metadata": {},
   "source": [
    "3. Disagreement is possibly linked to the mood of investors, which is affected by sunlight. The period when daylight saving time is in effect offers more sunlight. Using a regression with a dummy variable, check if the relationships found in the panel regression with firm effects is different when DST are in effect in New-York."
   ]
  },
  {
   "cell_type": "code",
   "execution_count": 99,
   "metadata": {},
   "outputs": [],
   "source": [
    "#2017 DST\n",
    "start_2017 = datetime(2017,3,12)\n",
    "end_2017 = datetime(2017,11,5)\n",
    "#2018 DST\n",
    "start_2018 = datetime(2018,3,11)\n",
    "end_2018 = datetime(2018,11,4)"
   ]
  },
  {
   "cell_type": "code",
   "execution_count": 100,
   "metadata": {},
   "outputs": [
    {
     "data": {
      "text/html": [
       "<div>\n",
       "<style scoped>\n",
       "    .dataframe tbody tr th:only-of-type {\n",
       "        vertical-align: middle;\n",
       "    }\n",
       "\n",
       "    .dataframe tbody tr th {\n",
       "        vertical-align: top;\n",
       "    }\n",
       "\n",
       "    .dataframe thead th {\n",
       "        text-align: right;\n",
       "    }\n",
       "</style>\n",
       "<table border=\"1\" class=\"dataframe\">\n",
       "  <thead>\n",
       "    <tr style=\"text-align: right;\">\n",
       "      <th></th>\n",
       "      <th></th>\n",
       "      <th>volume</th>\n",
       "      <th>volatility</th>\n",
       "      <th>market</th>\n",
       "      <th>dis_all</th>\n",
       "      <th>dis_within_group</th>\n",
       "      <th>dis_across_group</th>\n",
       "      <th>dummy</th>\n",
       "    </tr>\n",
       "    <tr>\n",
       "      <th>permno</th>\n",
       "      <th>date</th>\n",
       "      <th></th>\n",
       "      <th></th>\n",
       "      <th></th>\n",
       "      <th></th>\n",
       "      <th></th>\n",
       "      <th></th>\n",
       "      <th></th>\n",
       "    </tr>\n",
       "  </thead>\n",
       "  <tbody>\n",
       "    <tr>\n",
       "      <th rowspan=\"5\" valign=\"top\">10001</th>\n",
       "      <th>2017-02-28</th>\n",
       "      <td>397875.0</td>\n",
       "      <td>0.000017</td>\n",
       "      <td>11.798691</td>\n",
       "      <td>0.000000</td>\n",
       "      <td>0.0</td>\n",
       "      <td>0.0</td>\n",
       "      <td>0.0</td>\n",
       "    </tr>\n",
       "    <tr>\n",
       "      <th>2017-03-31</th>\n",
       "      <td>633464.0</td>\n",
       "      <td>0.000015</td>\n",
       "      <td>11.802635</td>\n",
       "      <td>0.000000</td>\n",
       "      <td>0.0</td>\n",
       "      <td>0.0</td>\n",
       "      <td>1.0</td>\n",
       "    </tr>\n",
       "    <tr>\n",
       "      <th>2017-04-30</th>\n",
       "      <td>390614.0</td>\n",
       "      <td>0.000007</td>\n",
       "      <td>11.786762</td>\n",
       "      <td>0.000000</td>\n",
       "      <td>0.0</td>\n",
       "      <td>0.0</td>\n",
       "      <td>1.0</td>\n",
       "    </tr>\n",
       "    <tr>\n",
       "      <th>2017-05-31</th>\n",
       "      <td>440137.0</td>\n",
       "      <td>0.000007</td>\n",
       "      <td>11.802635</td>\n",
       "      <td>0.000000</td>\n",
       "      <td>0.0</td>\n",
       "      <td>0.0</td>\n",
       "      <td>1.0</td>\n",
       "    </tr>\n",
       "    <tr>\n",
       "      <th>2017-06-30</th>\n",
       "      <td>590876.0</td>\n",
       "      <td>0.000010</td>\n",
       "      <td>11.820197</td>\n",
       "      <td>0.000000</td>\n",
       "      <td>0.0</td>\n",
       "      <td>0.0</td>\n",
       "      <td>1.0</td>\n",
       "    </tr>\n",
       "    <tr>\n",
       "      <th>...</th>\n",
       "      <th>...</th>\n",
       "      <td>...</td>\n",
       "      <td>...</td>\n",
       "      <td>...</td>\n",
       "      <td>...</td>\n",
       "      <td>...</td>\n",
       "      <td>...</td>\n",
       "      <td>...</td>\n",
       "    </tr>\n",
       "    <tr>\n",
       "      <th rowspan=\"5\" valign=\"top\">93393</th>\n",
       "      <th>2018-08-31</th>\n",
       "      <td>4846461.0</td>\n",
       "      <td>0.000789</td>\n",
       "      <td>13.075787</td>\n",
       "      <td>0.000000</td>\n",
       "      <td>0.0</td>\n",
       "      <td>0.0</td>\n",
       "      <td>1.0</td>\n",
       "    </tr>\n",
       "    <tr>\n",
       "      <th>2018-09-30</th>\n",
       "      <td>4809854.0</td>\n",
       "      <td>0.000446</td>\n",
       "      <td>12.927003</td>\n",
       "      <td>0.000000</td>\n",
       "      <td>0.0</td>\n",
       "      <td>0.0</td>\n",
       "      <td>1.0</td>\n",
       "    </tr>\n",
       "    <tr>\n",
       "      <th>2018-10-31</th>\n",
       "      <td>7372834.0</td>\n",
       "      <td>0.001270</td>\n",
       "      <td>12.605654</td>\n",
       "      <td>1.000000</td>\n",
       "      <td>0.0</td>\n",
       "      <td>0.0</td>\n",
       "      <td>1.0</td>\n",
       "    </tr>\n",
       "    <tr>\n",
       "      <th>2018-11-30</th>\n",
       "      <td>12968428.0</td>\n",
       "      <td>0.001658</td>\n",
       "      <td>12.582883</td>\n",
       "      <td>0.745356</td>\n",
       "      <td>0.0</td>\n",
       "      <td>0.0</td>\n",
       "      <td>0.0</td>\n",
       "    </tr>\n",
       "    <tr>\n",
       "      <th>2018-12-31</th>\n",
       "      <td>7920828.0</td>\n",
       "      <td>0.002177</td>\n",
       "      <td>12.518422</td>\n",
       "      <td>0.000000</td>\n",
       "      <td>0.0</td>\n",
       "      <td>0.0</td>\n",
       "      <td>0.0</td>\n",
       "    </tr>\n",
       "  </tbody>\n",
       "</table>\n",
       "<p>81954 rows × 7 columns</p>\n",
       "</div>"
      ],
      "text/plain": [
       "                       volume  volatility     market   dis_all  \\\n",
       "permno date                                                      \n",
       "10001  2017-02-28    397875.0    0.000017  11.798691  0.000000   \n",
       "       2017-03-31    633464.0    0.000015  11.802635  0.000000   \n",
       "       2017-04-30    390614.0    0.000007  11.786762  0.000000   \n",
       "       2017-05-31    440137.0    0.000007  11.802635  0.000000   \n",
       "       2017-06-30    590876.0    0.000010  11.820197  0.000000   \n",
       "...                       ...         ...        ...       ...   \n",
       "93393  2018-08-31   4846461.0    0.000789  13.075787  0.000000   \n",
       "       2018-09-30   4809854.0    0.000446  12.927003  0.000000   \n",
       "       2018-10-31   7372834.0    0.001270  12.605654  1.000000   \n",
       "       2018-11-30  12968428.0    0.001658  12.582883  0.745356   \n",
       "       2018-12-31   7920828.0    0.002177  12.518422  0.000000   \n",
       "\n",
       "                   dis_within_group  dis_across_group  dummy  \n",
       "permno date                                                   \n",
       "10001  2017-02-28               0.0               0.0    0.0  \n",
       "       2017-03-31               0.0               0.0    1.0  \n",
       "       2017-04-30               0.0               0.0    1.0  \n",
       "       2017-05-31               0.0               0.0    1.0  \n",
       "       2017-06-30               0.0               0.0    1.0  \n",
       "...                             ...               ...    ...  \n",
       "93393  2018-08-31               0.0               0.0    1.0  \n",
       "       2018-09-30               0.0               0.0    1.0  \n",
       "       2018-10-31               0.0               0.0    1.0  \n",
       "       2018-11-30               0.0               0.0    0.0  \n",
       "       2018-12-31               0.0               0.0    0.0  \n",
       "\n",
       "[81954 rows x 7 columns]"
      ]
     },
     "execution_count": 100,
     "metadata": {},
     "output_type": "execute_result"
    }
   ],
   "source": [
    "merg_df1 = merg_df.copy()\n",
    "merg_df1['dummy'] = np.nan \n",
    "idx = merg_df1.index.get_level_values(1)\n",
    "idx_2017 = (start_2017 < idx) & (idx < end_2017)\n",
    "idx_2018 = (start_2018 < idx) & (idx < end_2018)\n",
    "merg_df1.dummy[idx_2017] = 1\n",
    "merg_df1.dummy[idx_2018] = 1\n",
    "merg_df1.dummy = merg_df1.dummy.fillna(0)\n",
    "merg_df1"
   ]
  },
  {
   "cell_type": "markdown",
   "metadata": {},
   "source": [
    "$volatility$ = $\\alpha + \\beta_{1} \\times D + \\beta_{2} \\times market + \\beta_{3} \\times D \\times market + EntityEffects$ + $\\epsilon$ "
   ]
  },
  {
   "cell_type": "code",
   "execution_count": 104,
   "metadata": {},
   "outputs": [
    {
     "data": {
      "text/html": [
       "<table class=\"simpletable\">\n",
       "<caption>PanelOLS Estimation Summary</caption>\n",
       "<tr>\n",
       "  <th>Dep. Variable:</th>       <td>volatility</td>    <th>  R-squared:         </th>     <td>0.0074</td>  \n",
       "</tr>\n",
       "<tr>\n",
       "  <th>Estimator:</th>            <td>PanelOLS</td>     <th>  R-squared (Between):</th>    <td>-53.743</td> \n",
       "</tr>\n",
       "<tr>\n",
       "  <th>No. Observations:</th>       <td>81954</td>      <th>  R-squared (Within):</th>     <td>0.0074</td>  \n",
       "</tr>\n",
       "<tr>\n",
       "  <th>Date:</th>             <td>Fri, Feb 25 2022</td> <th>  R-squared (Overall):</th>    <td>-20.641</td> \n",
       "</tr>\n",
       "<tr>\n",
       "  <th>Time:</th>                 <td>17:30:15</td>     <th>  Log-likelihood     </th>    <td>3.304e+05</td>\n",
       "</tr>\n",
       "<tr>\n",
       "  <th>Cov. Estimator:</th>       <td>Clustered</td>    <th>                     </th>        <td></td>     \n",
       "</tr>\n",
       "<tr>\n",
       "  <th></th>                          <td></td>         <th>  F-statistic:       </th>     <td>193.13</td>  \n",
       "</tr>\n",
       "<tr>\n",
       "  <th>Entities:</th>               <td>4158</td>       <th>  P-value            </th>     <td>0.0000</td>  \n",
       "</tr>\n",
       "<tr>\n",
       "  <th>Avg Obs:</th>               <td>19.710</td>      <th>  Distribution:      </th>   <td>F(3,77797)</td>\n",
       "</tr>\n",
       "<tr>\n",
       "  <th>Min Obs:</th>               <td>0.0000</td>      <th>                     </th>        <td></td>     \n",
       "</tr>\n",
       "<tr>\n",
       "  <th>Max Obs:</th>               <td>24.000</td>      <th>  F-statistic (robust):</th>   <td>6.9179</td>  \n",
       "</tr>\n",
       "<tr>\n",
       "  <th></th>                          <td></td>         <th>  P-value            </th>     <td>0.0001</td>  \n",
       "</tr>\n",
       "<tr>\n",
       "  <th>Time periods:</th>            <td>24</td>        <th>  Distribution:      </th>   <td>F(3,77797)</td>\n",
       "</tr>\n",
       "<tr>\n",
       "  <th>Avg Obs:</th>               <td>3414.8</td>      <th>                     </th>        <td></td>     \n",
       "</tr>\n",
       "<tr>\n",
       "  <th>Min Obs:</th>               <td>3144.0</td>      <th>                     </th>        <td></td>     \n",
       "</tr>\n",
       "<tr>\n",
       "  <th>Max Obs:</th>               <td>3755.0</td>      <th>                     </th>        <td></td>     \n",
       "</tr>\n",
       "<tr>\n",
       "  <th></th>                          <td></td>         <th>                     </th>        <td></td>     \n",
       "</tr>\n",
       "</table>\n",
       "<table class=\"simpletable\">\n",
       "<caption>Parameter Estimates</caption>\n",
       "<tr>\n",
       "        <td></td>       <th>Parameter</th> <th>Std. Err.</th> <th>T-stat</th>  <th>P-value</th>  <th>Lower CI</th>  <th>Upper CI</th> \n",
       "</tr>\n",
       "<tr>\n",
       "  <th>dummy</th>         <td>-0.0003</td>   <td>0.0006</td>   <td>-0.4600</td> <td>0.6455</td>    <td>-0.0014</td>   <td>0.0009</td>  \n",
       "</tr>\n",
       "<tr>\n",
       "  <th>market</th>        <td>-0.0015</td>   <td>0.0003</td>   <td>-4.4533</td> <td>0.0000</td>    <td>-0.0022</td>   <td>-0.0009</td> \n",
       "</tr>\n",
       "<tr>\n",
       "  <th>dummy:market</th> <td>1.388e-05</td> <td>3.862e-05</td> <td>0.3593</td>  <td>0.7194</td>  <td>-6.182e-05</td> <td>8.957e-05</td>\n",
       "</tr>\n",
       "</table><br/><br/>F-test for Poolability: 4.1825<br/>P-value: 0.0000<br/>Distribution: F(4153,77797)<br/><br/>Included effects: Entity"
      ],
      "text/plain": [
       "<class 'linearmodels.compat.statsmodels.Summary'>\n",
       "\"\"\"\n",
       "                          PanelOLS Estimation Summary                           \n",
       "================================================================================\n",
       "Dep. Variable:             volatility   R-squared:                        0.0074\n",
       "Estimator:                   PanelOLS   R-squared (Between):             -53.743\n",
       "No. Observations:               81954   R-squared (Within):               0.0074\n",
       "Date:                Fri, Feb 25 2022   R-squared (Overall):             -20.641\n",
       "Time:                        17:30:15   Log-likelihood                 3.304e+05\n",
       "Cov. Estimator:             Clustered                                           \n",
       "                                        F-statistic:                      193.13\n",
       "Entities:                        4158   P-value                           0.0000\n",
       "Avg Obs:                       19.710   Distribution:                 F(3,77797)\n",
       "Min Obs:                       0.0000                                           \n",
       "Max Obs:                       24.000   F-statistic (robust):             6.9179\n",
       "                                        P-value                           0.0001\n",
       "Time periods:                      24   Distribution:                 F(3,77797)\n",
       "Avg Obs:                       3414.8                                           \n",
       "Min Obs:                       3144.0                                           \n",
       "Max Obs:                       3755.0                                           \n",
       "                                                                                \n",
       "                              Parameter Estimates                               \n",
       "================================================================================\n",
       "              Parameter  Std. Err.     T-stat    P-value    Lower CI    Upper CI\n",
       "--------------------------------------------------------------------------------\n",
       "dummy           -0.0003     0.0006    -0.4600     0.6455     -0.0014      0.0009\n",
       "market          -0.0015     0.0003    -4.4533     0.0000     -0.0022     -0.0009\n",
       "dummy:market  1.388e-05  3.862e-05     0.3593     0.7194  -6.182e-05   8.957e-05\n",
       "================================================================================\n",
       "\n",
       "F-test for Poolability: 4.1825\n",
       "P-value: 0.0000\n",
       "Distribution: F(4153,77797)\n",
       "\n",
       "Included effects: Entity\n",
       "\"\"\""
      ]
     },
     "execution_count": 104,
     "metadata": {},
     "output_type": "execute_result"
    }
   ],
   "source": [
    "panel4 = PanelOLS.from_formula('volatility ~ dummy * market + EntityEffects',data=merg_df1).fit(\n",
    "    cov_type='clustered', cluster_entity=True)\n",
    "panel4.summary"
   ]
  },
  {
   "cell_type": "markdown",
   "metadata": {},
   "source": [
    "### **`Answer:`** \n",
    "p-values of the coefficients of $D$ and $D \\times market$ (ie. $\\beta_1$ and $\\beta_3$) are very high so the estimations are insignificant. So we can not conclude that the DST time make any changes in relationships found in the panel regression."
   ]
  },
  {
   "cell_type": "markdown",
   "metadata": {},
   "source": [
    "##### 4. Now you worry that your model in a) might not respect the orthogonality condition (i.e., disagreement is not orthogonal to $\\varepsilon$. Could you use the instrumental variable approach,using the DST dummy as an instrument? If so, why? If not, why not? Make sure to test what you can test and discuss what you can't test."
   ]
  },
  {
   "cell_type": "markdown",
   "metadata": {},
   "source": [
    "### **`Answer:`** \n",
    "We need two assumptions for a valid IV.\n",
    "\n",
    "**Relevance:** There must be correlation between dis_all and dummy(DST) conditional on all other variables in a system i.e. $\\beta_{1}$ $\\neq$ 0 in following equation:\n",
    "\n",
    "$dis_{all}$ = $\\alpha + \\beta_{1} \\times dummy + \\beta_{2} \\times market + EntityEffects$ + $\\epsilon$ \n",
    "\n",
    "**Exclusion:** The variable can be excluded from the main equation of interest. Two\n",
    "important parts to this assumption.\n",
    "- The only relationship between dummy(DST) and dis_all is through the first stage\n",
    "relationship\n",
    "- Conditional on covariates (market cap), the dummy(DST) is as good as randomly\n",
    "assigned"
   ]
  },
  {
   "cell_type": "markdown",
   "metadata": {},
   "source": [
    "Relevance can be tested since it is a partial correlation \\\n",
    "Exclusion cannot be tested, so it must be argued based off of logical reasoning"
   ]
  },
  {
   "cell_type": "markdown",
   "metadata": {},
   "source": [
    "To check is there is Relevance several papers suggest having a first-stage F-statistic on the instrument of greater\n",
    "than 10 or so."
   ]
  },
  {
   "cell_type": "markdown",
   "metadata": {},
   "source": [
    "#### $First Stage:$\n",
    "$dis_{all}$ = $\\alpha + \\beta_{1} \\times dummy + \\beta_{2} \\times market + EntityEffects$ + $\\epsilon$ "
   ]
  },
  {
   "cell_type": "code",
   "execution_count": 102,
   "metadata": {},
   "outputs": [
    {
     "data": {
      "text/html": [
       "<table class=\"simpletable\">\n",
       "<caption>PanelOLS Estimation Summary</caption>\n",
       "<tr>\n",
       "  <th>Dep. Variable:</th>         <td>dis_all</td>     <th>  R-squared:         </th>     <td>0.0001</td>  \n",
       "</tr>\n",
       "<tr>\n",
       "  <th>Estimator:</th>            <td>PanelOLS</td>     <th>  R-squared (Between):</th>    <td>0.5695</td>  \n",
       "</tr>\n",
       "<tr>\n",
       "  <th>No. Observations:</th>       <td>81954</td>      <th>  R-squared (Within):</th>     <td>0.0001</td>  \n",
       "</tr>\n",
       "<tr>\n",
       "  <th>Date:</th>             <td>Fri, Feb 25 2022</td> <th>  R-squared (Overall):</th>    <td>0.1730</td>  \n",
       "</tr>\n",
       "<tr>\n",
       "  <th>Time:</th>                 <td>16:55:15</td>     <th>  Log-likelihood     </th>   <td>-2.981e+04</td>\n",
       "</tr>\n",
       "<tr>\n",
       "  <th>Cov. Estimator:</th>       <td>Clustered</td>    <th>                     </th>        <td></td>     \n",
       "</tr>\n",
       "<tr>\n",
       "  <th></th>                          <td></td>         <th>  F-statistic:       </th>     <td>5.1856</td>  \n",
       "</tr>\n",
       "<tr>\n",
       "  <th>Entities:</th>               <td>4158</td>       <th>  P-value            </th>     <td>0.0056</td>  \n",
       "</tr>\n",
       "<tr>\n",
       "  <th>Avg Obs:</th>               <td>19.710</td>      <th>  Distribution:      </th>   <td>F(2,77798)</td>\n",
       "</tr>\n",
       "<tr>\n",
       "  <th>Min Obs:</th>               <td>0.0000</td>      <th>                     </th>        <td></td>     \n",
       "</tr>\n",
       "<tr>\n",
       "  <th>Max Obs:</th>               <td>24.000</td>      <th>  F-statistic (robust):</th>   <td>0.4776</td>  \n",
       "</tr>\n",
       "<tr>\n",
       "  <th></th>                          <td></td>         <th>  P-value            </th>     <td>0.6203</td>  \n",
       "</tr>\n",
       "<tr>\n",
       "  <th>Time periods:</th>            <td>24</td>        <th>  Distribution:      </th>   <td>F(2,77798)</td>\n",
       "</tr>\n",
       "<tr>\n",
       "  <th>Avg Obs:</th>               <td>3414.8</td>      <th>                     </th>        <td></td>     \n",
       "</tr>\n",
       "<tr>\n",
       "  <th>Min Obs:</th>               <td>3144.0</td>      <th>                     </th>        <td></td>     \n",
       "</tr>\n",
       "<tr>\n",
       "  <th>Max Obs:</th>               <td>3755.0</td>      <th>                     </th>        <td></td>     \n",
       "</tr>\n",
       "<tr>\n",
       "  <th></th>                          <td></td>         <th>                     </th>        <td></td>     \n",
       "</tr>\n",
       "</table>\n",
       "<table class=\"simpletable\">\n",
       "<caption>Parameter Estimates</caption>\n",
       "<tr>\n",
       "     <td></td>    <th>Parameter</th> <th>Std. Err.</th> <th>T-stat</th> <th>P-value</th> <th>Lower CI</th> <th>Upper CI</th>\n",
       "</tr>\n",
       "<tr>\n",
       "  <th>dummy</th>   <td>0.0073</td>    <td>0.0238</td>   <td>0.3052</td> <td>0.7602</td>   <td>-0.0394</td>  <td>0.0540</td> \n",
       "</tr>\n",
       "<tr>\n",
       "  <th>market</th>  <td>0.0081</td>    <td>0.0097</td>   <td>0.8378</td> <td>0.4021</td>   <td>-0.0109</td>  <td>0.0271</td> \n",
       "</tr>\n",
       "</table><br/><br/>F-test for Poolability: 2.3421<br/>P-value: 0.0000<br/>Distribution: F(4153,77798)<br/><br/>Included effects: Entity<br/>id: 0x23500d2bd30"
      ],
      "text/plain": [
       "                          PanelOLS Estimation Summary                           \n",
       "================================================================================\n",
       "Dep. Variable:                dis_all   R-squared:                        0.0001\n",
       "Estimator:                   PanelOLS   R-squared (Between):              0.5695\n",
       "No. Observations:               81954   R-squared (Within):               0.0001\n",
       "Date:                Fri, Feb 25 2022   R-squared (Overall):              0.1730\n",
       "Time:                        16:55:15   Log-likelihood                -2.981e+04\n",
       "Cov. Estimator:             Clustered                                           \n",
       "                                        F-statistic:                      5.1856\n",
       "Entities:                        4158   P-value                           0.0056\n",
       "Avg Obs:                       19.710   Distribution:                 F(2,77798)\n",
       "Min Obs:                       0.0000                                           \n",
       "Max Obs:                       24.000   F-statistic (robust):             0.4776\n",
       "                                        P-value                           0.6203\n",
       "Time periods:                      24   Distribution:                 F(2,77798)\n",
       "Avg Obs:                       3414.8                                           \n",
       "Min Obs:                       3144.0                                           \n",
       "Max Obs:                       3755.0                                           \n",
       "                                                                                \n",
       "                             Parameter Estimates                              \n",
       "==============================================================================\n",
       "            Parameter  Std. Err.     T-stat    P-value    Lower CI    Upper CI\n",
       "------------------------------------------------------------------------------\n",
       "dummy          0.0073     0.0238     0.3052     0.7602     -0.0394      0.0540\n",
       "market         0.0081     0.0097     0.8378     0.4021     -0.0109      0.0271\n",
       "==============================================================================\n",
       "\n",
       "F-test for Poolability: 2.3421\n",
       "P-value: 0.0000\n",
       "Distribution: F(4153,77798)\n",
       "\n",
       "Included effects: Entity\n",
       "PanelEffectsResults, id: 0x23500d2bd30"
      ]
     },
     "execution_count": 102,
     "metadata": {},
     "output_type": "execute_result"
    }
   ],
   "source": [
    "panel5 = PanelOLS.from_formula('dis_all ~ dummy + market + EntityEffects', data=merg_df1).fit(\n",
    "    cov_type='clustered', cluster_entity=True)\n",
    "panel5"
   ]
  },
  {
   "cell_type": "code",
   "execution_count": 103,
   "metadata": {},
   "outputs": [
    {
     "data": {
      "text/plain": [
       "array([[1.        , 0.01108749],\n",
       "       [0.01108749, 1.        ]])"
      ]
     },
     "execution_count": 103,
     "metadata": {},
     "output_type": "execute_result"
    }
   ],
   "source": [
    "# Corrolation between dis_all and dummy(DST)\n",
    "np.corrcoef(merg_df1.dis_all, merg_df1.dummy)"
   ]
  },
  {
   "cell_type": "markdown",
   "metadata": {},
   "source": [
    "### *Relevance*\n",
    "\n",
    "Due to following reasons there is no good relevance between dis_all and dummy(DST) as IV\n",
    "1. In first stage equation F-statistic = 5.1856 < 10\n",
    "2. $R^{2}$ in first stage equation is equal to 0.0001 which is very low\n",
    "3. Corrolation between dis_all and dummy(DST) is equal to 0.011 which is very low"
   ]
  },
  {
   "cell_type": "markdown",
   "metadata": {},
   "source": [
    "### *Exclusion*\n",
    "There is no test to check if there is Exculsion, but we can make some logical reasoning for this purpose\n",
    "- It is possible that more sunlight lead to less energy consumption for firms that makes more profit for firms\n",
    "- It can be considered that there is a corrolation bteween summer (more sunlight) and level of economic activity in country, so the more sunlight the more profit\n",
    "\n",
    "By two above hypothesis, we can coclude that the Exclusion condition is not satisfied"
   ]
  }
 ],
 "metadata": {
  "interpreter": {
   "hash": "1f05c31a73a4735506234ba4950a25e1cb2b70bbb307ca876c17bfc9c46173d7"
  },
  "kernelspec": {
   "display_name": "Python 3.10.1 ('hecfin')",
   "language": "python",
   "name": "python3"
  },
  "language_info": {
   "codemirror_mode": {
    "name": "ipython",
    "version": 3
   },
   "file_extension": ".py",
   "mimetype": "text/x-python",
   "name": "python",
   "nbconvert_exporter": "python",
   "pygments_lexer": "ipython3",
   "version": "3.10.1"
  },
  "orig_nbformat": 4
 },
 "nbformat": 4,
 "nbformat_minor": 2
}
